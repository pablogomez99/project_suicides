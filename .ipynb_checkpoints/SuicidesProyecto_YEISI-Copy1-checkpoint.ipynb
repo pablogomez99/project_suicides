{
 "cells": [
  {
   "cell_type": "markdown",
   "metadata": {},
   "source": [
    "#### Lo primero que vamos a hacer en nuestro notebook es el esquema, el esquema es la forma en la que queremos que nuestros datos aparezcan, escribimos el nombre de la columna y el tipo de dato que contiene, realizamos esto con todas las columnas y lo añadimos a la variable labels, y medante la función Struct type, crearemos el esuqema que mas adelante infereriremos."
   ]
  },
  {
   "cell_type": "code",
   "execution_count": 1,
   "metadata": {},
   "outputs": [],
   "source": [
    "import pyspark.ml.classification as cl\n"
   ]
  },
  {
   "cell_type": "code",
   "execution_count": 2,
   "metadata": {},
   "outputs": [],
   "source": [
    "import pyspark.sql.types as typ\n",
    "\n",
    "\n",
    "labels = [\n",
    "    ('country', typ.StringType()),\n",
    "    ('year', typ.IntegerType()),\n",
    "    ('sex', typ.StringType()),\n",
    "    ('age', typ.StringType()),\n",
    "    ('suicide_no', typ.IntegerType()),\n",
    "    ('population', typ.IntegerType()),\n",
    "    ('suicides/100k pop', typ.DoubleType()),\n",
    "    ('country-year', typ.StringType()),\n",
    "    ('HDI for year', typ.DoubleType()),\n",
    "    (' gdp_for_year ($) ', typ.StringType()),\n",
    "    ('gdp_per_capita ($)', typ.IntegerType()),\n",
    "    ('generation', typ.StringType())\n",
    "]\n",
    "\n",
    "mi_schema = typ.StructType([\n",
    "    typ.StructField(e[0], e[1], False) for e in labels\n",
    "])"
   ]
  },
  {
   "cell_type": "markdown",
   "metadata": {},
   "source": [
    "Una vez creado el esquema, lo que vamos a hacer es importarnos el DataSet e implementar nuestro esquema, lo que conseguimos con esto es que todas las columnas se adopten el tipo de dato que nosotros hemos definido."
   ]
  },
  {
   "cell_type": "code",
   "execution_count": 3,
   "metadata": {},
   "outputs": [],
   "source": [
    "suicides =spark.read.csv('master.csv',header='true', inferSchema='false',schema = mi_schema)\n"
   ]
  },
  {
   "cell_type": "code",
   "execution_count": 4,
   "metadata": {},
   "outputs": [
    {
     "data": {
      "text/plain": [
       "Row(country='Albania', year=1987, sex='male', age='15-24 years', suicide_no=21, population=312900, suicides/100k pop=6.71, country-year='Albania1987', HDI for year=None,  gdp_for_year ($) ='2,156,624,900', gdp_per_capita ($)=796, generation='Generation X')"
      ]
     },
     "execution_count": 4,
     "metadata": {},
     "output_type": "execute_result"
    }
   ],
   "source": [
    "suicides.head()"
   ]
  },
  {
   "cell_type": "markdown",
   "metadata": {},
   "source": [
    "Mediante la funcion withColumnRenamed, vamos a cambiar el nombre de ciertas variables ya que la informacion que nos dan con ese nombre nos parece confusa, en nustro caso, hemos cambiado las variables 'numero de suicidios por cada 100.000 habitantes', 'Indice de desarrollo humano por año', 'Producto interior bruto anual' y 'Producto interior bruto per capita'"
   ]
  },
  {
   "cell_type": "code",
   "execution_count": 5,
   "metadata": {},
   "outputs": [],
   "source": [
    "suicides = suicides.withColumnRenamed('suicides/100k pop','Num_Suicides_100k')\n",
    "suicides = suicides.withColumnRenamed('HDI for year','IDH_Y')\n",
    "suicides = suicides.withColumnRenamed(' gdp_for_year ($) ','PIB_Y')\n",
    "suicides = suicides.withColumnRenamed('gdp_per_capita ($)','PIB_PerCapita')"
   ]
  },
  {
   "cell_type": "markdown",
   "metadata": {},
   "source": [
    "## Probando/Jugando con las funciones de pyspark (count , filter , distinct , collect ,etc)"
   ]
  },
  {
   "cell_type": "code",
   "execution_count": 6,
   "metadata": {},
   "outputs": [],
   "source": [
    "#from pyspark.sql import functions as F\n",
    "#df_null=midata.select(*(F.sum(F.col(c).isNull().cast('Double')).alias(c) for c in midata.columns))"
   ]
  },
  {
   "cell_type": "code",
   "execution_count": 7,
   "metadata": {},
   "outputs": [],
   "source": [
    "pandaDf = suicides.toPandas()\n"
   ]
  },
  {
   "cell_type": "code",
   "execution_count": 8,
   "metadata": {},
   "outputs": [
    {
     "data": {
      "text/plain": [
       "27820"
      ]
     },
     "execution_count": 8,
     "metadata": {},
     "output_type": "execute_result"
    }
   ],
   "source": [
    "pandaDf['country'].count()"
   ]
  },
  {
   "cell_type": "code",
   "execution_count": 9,
   "metadata": {},
   "outputs": [
    {
     "data": {
      "text/plain": [
       "country                  0\n",
       "year                     0\n",
       "sex                      0\n",
       "age                      0\n",
       "suicide_no               0\n",
       "population               0\n",
       "Num_Suicides_100k        0\n",
       "country-year             0\n",
       "IDH_Y                19456\n",
       "PIB_Y                    0\n",
       "PIB_PerCapita            0\n",
       "generation               0\n",
       "dtype: int64"
      ]
     },
     "execution_count": 9,
     "metadata": {},
     "output_type": "execute_result"
    }
   ],
   "source": [
    "pandaDf.isnull().sum()"
   ]
  },
  {
   "cell_type": "code",
   "execution_count": 10,
   "metadata": {},
   "outputs": [
    {
     "data": {
      "text/plain": [
       "0.699352983465133"
      ]
     },
     "execution_count": 10,
     "metadata": {},
     "output_type": "execute_result"
    }
   ],
   "source": [
    "19456/len(pandaDf)"
   ]
  },
  {
   "cell_type": "markdown",
   "metadata": {},
   "source": [
    "Viendo que hay 19456 null, es decir un 70% de los datos, consideramos que lo mejor es eliminar o dejar de utilizar esa columna"
   ]
  },
  {
   "cell_type": "code",
   "execution_count": 11,
   "metadata": {},
   "outputs": [
    {
     "data": {
      "text/html": [
       "<style  type=\"text/css\" >\n",
       "    #T_dda1ed78_a46b_11ea_9b37_6476ba93fb84row0_col0 {\n",
       "            background-color:  #b40426;\n",
       "            color:  #f1f1f1;\n",
       "        }    #T_dda1ed78_a46b_11ea_9b37_6476ba93fb84row0_col1 {\n",
       "            background-color:  #3b4cc0;\n",
       "            color:  #f1f1f1;\n",
       "        }    #T_dda1ed78_a46b_11ea_9b37_6476ba93fb84row0_col2 {\n",
       "            background-color:  #3b4cc0;\n",
       "            color:  #f1f1f1;\n",
       "        }    #T_dda1ed78_a46b_11ea_9b37_6476ba93fb84row0_col3 {\n",
       "            background-color:  #3b4cc0;\n",
       "            color:  #f1f1f1;\n",
       "        }    #T_dda1ed78_a46b_11ea_9b37_6476ba93fb84row0_col4 {\n",
       "            background-color:  #a3c2fe;\n",
       "            color:  #000000;\n",
       "        }    #T_dda1ed78_a46b_11ea_9b37_6476ba93fb84row0_col5 {\n",
       "            background-color:  #abc8fd;\n",
       "            color:  #000000;\n",
       "        }    #T_dda1ed78_a46b_11ea_9b37_6476ba93fb84row1_col0 {\n",
       "            background-color:  #445acc;\n",
       "            color:  #f1f1f1;\n",
       "        }    #T_dda1ed78_a46b_11ea_9b37_6476ba93fb84row1_col1 {\n",
       "            background-color:  #b40426;\n",
       "            color:  #f1f1f1;\n",
       "        }    #T_dda1ed78_a46b_11ea_9b37_6476ba93fb84row1_col2 {\n",
       "            background-color:  #f3c8b2;\n",
       "            color:  #000000;\n",
       "        }    #T_dda1ed78_a46b_11ea_9b37_6476ba93fb84row1_col3 {\n",
       "            background-color:  #aac7fd;\n",
       "            color:  #000000;\n",
       "        }    #T_dda1ed78_a46b_11ea_9b37_6476ba93fb84row1_col4 {\n",
       "            background-color:  #5470de;\n",
       "            color:  #000000;\n",
       "        }    #T_dda1ed78_a46b_11ea_9b37_6476ba93fb84row1_col5 {\n",
       "            background-color:  #4c66d6;\n",
       "            color:  #000000;\n",
       "        }    #T_dda1ed78_a46b_11ea_9b37_6476ba93fb84row2_col0 {\n",
       "            background-color:  #485fd1;\n",
       "            color:  #f1f1f1;\n",
       "        }    #T_dda1ed78_a46b_11ea_9b37_6476ba93fb84row2_col1 {\n",
       "            background-color:  #f4c6af;\n",
       "            color:  #000000;\n",
       "        }    #T_dda1ed78_a46b_11ea_9b37_6476ba93fb84row2_col2 {\n",
       "            background-color:  #b40426;\n",
       "            color:  #f1f1f1;\n",
       "        }    #T_dda1ed78_a46b_11ea_9b37_6476ba93fb84row2_col3 {\n",
       "            background-color:  #485fd1;\n",
       "            color:  #f1f1f1;\n",
       "        }    #T_dda1ed78_a46b_11ea_9b37_6476ba93fb84row2_col4 {\n",
       "            background-color:  #4358cb;\n",
       "            color:  #f1f1f1;\n",
       "        }    #T_dda1ed78_a46b_11ea_9b37_6476ba93fb84row2_col5 {\n",
       "            background-color:  #536edd;\n",
       "            color:  #000000;\n",
       "        }    #T_dda1ed78_a46b_11ea_9b37_6476ba93fb84row3_col0 {\n",
       "            background-color:  #3b4cc0;\n",
       "            color:  #f1f1f1;\n",
       "        }    #T_dda1ed78_a46b_11ea_9b37_6476ba93fb84row3_col1 {\n",
       "            background-color:  #a2c1ff;\n",
       "            color:  #000000;\n",
       "        }    #T_dda1ed78_a46b_11ea_9b37_6476ba93fb84row3_col2 {\n",
       "            background-color:  #3b4cc0;\n",
       "            color:  #f1f1f1;\n",
       "        }    #T_dda1ed78_a46b_11ea_9b37_6476ba93fb84row3_col3 {\n",
       "            background-color:  #b40426;\n",
       "            color:  #f1f1f1;\n",
       "        }    #T_dda1ed78_a46b_11ea_9b37_6476ba93fb84row3_col4 {\n",
       "            background-color:  #3b4cc0;\n",
       "            color:  #f1f1f1;\n",
       "        }    #T_dda1ed78_a46b_11ea_9b37_6476ba93fb84row3_col5 {\n",
       "            background-color:  #3b4cc0;\n",
       "            color:  #f1f1f1;\n",
       "        }    #T_dda1ed78_a46b_11ea_9b37_6476ba93fb84row4_col0 {\n",
       "            background-color:  #bcd2f7;\n",
       "            color:  #000000;\n",
       "        }    #T_dda1ed78_a46b_11ea_9b37_6476ba93fb84row4_col1 {\n",
       "            background-color:  #6b8df0;\n",
       "            color:  #000000;\n",
       "        }    #T_dda1ed78_a46b_11ea_9b37_6476ba93fb84row4_col2 {\n",
       "            background-color:  #5875e1;\n",
       "            color:  #000000;\n",
       "        }    #T_dda1ed78_a46b_11ea_9b37_6476ba93fb84row4_col3 {\n",
       "            background-color:  #5b7ae5;\n",
       "            color:  #000000;\n",
       "        }    #T_dda1ed78_a46b_11ea_9b37_6476ba93fb84row4_col4 {\n",
       "            background-color:  #b40426;\n",
       "            color:  #f1f1f1;\n",
       "        }    #T_dda1ed78_a46b_11ea_9b37_6476ba93fb84row4_col5 {\n",
       "            background-color:  #f29072;\n",
       "            color:  #000000;\n",
       "        }    #T_dda1ed78_a46b_11ea_9b37_6476ba93fb84row5_col0 {\n",
       "            background-color:  #b5cdfa;\n",
       "            color:  #000000;\n",
       "        }    #T_dda1ed78_a46b_11ea_9b37_6476ba93fb84row5_col1 {\n",
       "            background-color:  #4e68d8;\n",
       "            color:  #000000;\n",
       "        }    #T_dda1ed78_a46b_11ea_9b37_6476ba93fb84row5_col2 {\n",
       "            background-color:  #506bda;\n",
       "            color:  #000000;\n",
       "        }    #T_dda1ed78_a46b_11ea_9b37_6476ba93fb84row5_col3 {\n",
       "            background-color:  #465ecf;\n",
       "            color:  #f1f1f1;\n",
       "        }    #T_dda1ed78_a46b_11ea_9b37_6476ba93fb84row5_col4 {\n",
       "            background-color:  #f4987a;\n",
       "            color:  #000000;\n",
       "        }    #T_dda1ed78_a46b_11ea_9b37_6476ba93fb84row5_col5 {\n",
       "            background-color:  #b40426;\n",
       "            color:  #f1f1f1;\n",
       "        }</style><table id=\"T_dda1ed78_a46b_11ea_9b37_6476ba93fb84\" ><thead>    <tr>        <th class=\"blank level0\" ></th>        <th class=\"col_heading level0 col0\" >year</th>        <th class=\"col_heading level0 col1\" >suicide_no</th>        <th class=\"col_heading level0 col2\" >population</th>        <th class=\"col_heading level0 col3\" >Num_Suicides_100k</th>        <th class=\"col_heading level0 col4\" >IDH_Y</th>        <th class=\"col_heading level0 col5\" >PIB_PerCapita</th>    </tr></thead><tbody>\n",
       "                <tr>\n",
       "                        <th id=\"T_dda1ed78_a46b_11ea_9b37_6476ba93fb84level0_row0\" class=\"row_heading level0 row0\" >year</th>\n",
       "                        <td id=\"T_dda1ed78_a46b_11ea_9b37_6476ba93fb84row0_col0\" class=\"data row0 col0\" >1.000000</td>\n",
       "                        <td id=\"T_dda1ed78_a46b_11ea_9b37_6476ba93fb84row0_col1\" class=\"data row0 col1\" >-0.004546</td>\n",
       "                        <td id=\"T_dda1ed78_a46b_11ea_9b37_6476ba93fb84row0_col2\" class=\"data row0 col2\" >0.008850</td>\n",
       "                        <td id=\"T_dda1ed78_a46b_11ea_9b37_6476ba93fb84row0_col3\" class=\"data row0 col3\" >-0.039037</td>\n",
       "                        <td id=\"T_dda1ed78_a46b_11ea_9b37_6476ba93fb84row0_col4\" class=\"data row0 col4\" >0.366786</td>\n",
       "                        <td id=\"T_dda1ed78_a46b_11ea_9b37_6476ba93fb84row0_col5\" class=\"data row0 col5\" >0.339134</td>\n",
       "            </tr>\n",
       "            <tr>\n",
       "                        <th id=\"T_dda1ed78_a46b_11ea_9b37_6476ba93fb84level0_row1\" class=\"row_heading level0 row1\" >suicide_no</th>\n",
       "                        <td id=\"T_dda1ed78_a46b_11ea_9b37_6476ba93fb84row1_col0\" class=\"data row1 col0\" >-0.004546</td>\n",
       "                        <td id=\"T_dda1ed78_a46b_11ea_9b37_6476ba93fb84row1_col1\" class=\"data row1 col1\" >1.000000</td>\n",
       "                        <td id=\"T_dda1ed78_a46b_11ea_9b37_6476ba93fb84row1_col2\" class=\"data row1 col2\" >0.616162</td>\n",
       "                        <td id=\"T_dda1ed78_a46b_11ea_9b37_6476ba93fb84row1_col3\" class=\"data row1 col3\" >0.306604</td>\n",
       "                        <td id=\"T_dda1ed78_a46b_11ea_9b37_6476ba93fb84row1_col4\" class=\"data row1 col4\" >0.151399</td>\n",
       "                        <td id=\"T_dda1ed78_a46b_11ea_9b37_6476ba93fb84row1_col5\" class=\"data row1 col5\" >0.061330</td>\n",
       "            </tr>\n",
       "            <tr>\n",
       "                        <th id=\"T_dda1ed78_a46b_11ea_9b37_6476ba93fb84level0_row2\" class=\"row_heading level0 row2\" >population</th>\n",
       "                        <td id=\"T_dda1ed78_a46b_11ea_9b37_6476ba93fb84row2_col0\" class=\"data row2 col0\" >0.008850</td>\n",
       "                        <td id=\"T_dda1ed78_a46b_11ea_9b37_6476ba93fb84row2_col1\" class=\"data row2 col1\" >0.616162</td>\n",
       "                        <td id=\"T_dda1ed78_a46b_11ea_9b37_6476ba93fb84row2_col2\" class=\"data row2 col2\" >1.000000</td>\n",
       "                        <td id=\"T_dda1ed78_a46b_11ea_9b37_6476ba93fb84row2_col3\" class=\"data row2 col3\" >0.008285</td>\n",
       "                        <td id=\"T_dda1ed78_a46b_11ea_9b37_6476ba93fb84row2_col4\" class=\"data row2 col4\" >0.102943</td>\n",
       "                        <td id=\"T_dda1ed78_a46b_11ea_9b37_6476ba93fb84row2_col5\" class=\"data row2 col5\" >0.081510</td>\n",
       "            </tr>\n",
       "            <tr>\n",
       "                        <th id=\"T_dda1ed78_a46b_11ea_9b37_6476ba93fb84level0_row3\" class=\"row_heading level0 row3\" >Num_Suicides_100k</th>\n",
       "                        <td id=\"T_dda1ed78_a46b_11ea_9b37_6476ba93fb84row3_col0\" class=\"data row3 col0\" >-0.039037</td>\n",
       "                        <td id=\"T_dda1ed78_a46b_11ea_9b37_6476ba93fb84row3_col1\" class=\"data row3 col1\" >0.306604</td>\n",
       "                        <td id=\"T_dda1ed78_a46b_11ea_9b37_6476ba93fb84row3_col2\" class=\"data row3 col2\" >0.008285</td>\n",
       "                        <td id=\"T_dda1ed78_a46b_11ea_9b37_6476ba93fb84row3_col3\" class=\"data row3 col3\" >1.000000</td>\n",
       "                        <td id=\"T_dda1ed78_a46b_11ea_9b37_6476ba93fb84row3_col4\" class=\"data row3 col4\" >0.074279</td>\n",
       "                        <td id=\"T_dda1ed78_a46b_11ea_9b37_6476ba93fb84row3_col5\" class=\"data row3 col5\" >0.001785</td>\n",
       "            </tr>\n",
       "            <tr>\n",
       "                        <th id=\"T_dda1ed78_a46b_11ea_9b37_6476ba93fb84level0_row4\" class=\"row_heading level0 row4\" >IDH_Y</th>\n",
       "                        <td id=\"T_dda1ed78_a46b_11ea_9b37_6476ba93fb84row4_col0\" class=\"data row4 col0\" >0.366786</td>\n",
       "                        <td id=\"T_dda1ed78_a46b_11ea_9b37_6476ba93fb84row4_col1\" class=\"data row4 col1\" >0.151399</td>\n",
       "                        <td id=\"T_dda1ed78_a46b_11ea_9b37_6476ba93fb84row4_col2\" class=\"data row4 col2\" >0.102943</td>\n",
       "                        <td id=\"T_dda1ed78_a46b_11ea_9b37_6476ba93fb84row4_col3\" class=\"data row4 col3\" >0.074279</td>\n",
       "                        <td id=\"T_dda1ed78_a46b_11ea_9b37_6476ba93fb84row4_col4\" class=\"data row4 col4\" >1.000000</td>\n",
       "                        <td id=\"T_dda1ed78_a46b_11ea_9b37_6476ba93fb84row4_col5\" class=\"data row4 col5\" >0.771228</td>\n",
       "            </tr>\n",
       "            <tr>\n",
       "                        <th id=\"T_dda1ed78_a46b_11ea_9b37_6476ba93fb84level0_row5\" class=\"row_heading level0 row5\" >PIB_PerCapita</th>\n",
       "                        <td id=\"T_dda1ed78_a46b_11ea_9b37_6476ba93fb84row5_col0\" class=\"data row5 col0\" >0.339134</td>\n",
       "                        <td id=\"T_dda1ed78_a46b_11ea_9b37_6476ba93fb84row5_col1\" class=\"data row5 col1\" >0.061330</td>\n",
       "                        <td id=\"T_dda1ed78_a46b_11ea_9b37_6476ba93fb84row5_col2\" class=\"data row5 col2\" >0.081510</td>\n",
       "                        <td id=\"T_dda1ed78_a46b_11ea_9b37_6476ba93fb84row5_col3\" class=\"data row5 col3\" >0.001785</td>\n",
       "                        <td id=\"T_dda1ed78_a46b_11ea_9b37_6476ba93fb84row5_col4\" class=\"data row5 col4\" >0.771228</td>\n",
       "                        <td id=\"T_dda1ed78_a46b_11ea_9b37_6476ba93fb84row5_col5\" class=\"data row5 col5\" >1.000000</td>\n",
       "            </tr>\n",
       "    </tbody></table>"
      ],
      "text/plain": [
       "<pandas.io.formats.style.Styler at 0x11637cc90>"
      ]
     },
     "execution_count": 11,
     "metadata": {},
     "output_type": "execute_result"
    }
   ],
   "source": [
    "corr = pandaDf.corr()\n",
    "corr.style.background_gradient(cmap='coolwarm')"
   ]
  },
  {
   "cell_type": "code",
   "execution_count": 12,
   "metadata": {},
   "outputs": [
    {
     "data": {
      "text/plain": [
       "101"
      ]
     },
     "execution_count": 12,
     "metadata": {},
     "output_type": "execute_result"
    }
   ],
   "source": [
    "Num_Country1 = suicides.groupBy('country').count()\n",
    "Num_Country2 = suicides.select('country').distinct().count()\n",
    "Num_Country3 = Num_Country1.select('count').count()\n",
    "Num_Country2"
   ]
  },
  {
   "cell_type": "code",
   "execution_count": 13,
   "metadata": {},
   "outputs": [
    {
     "name": "stdout",
     "output_type": "stream",
     "text": [
      "+-------+----+----------+\n",
      "|country|year|suicide_no|\n",
      "+-------+----+----------+\n",
      "|  Spain|1985|       305|\n",
      "|  Spain|1985|       624|\n",
      "|  Spain|1985|       131|\n",
      "|  Spain|1985|       497|\n",
      "|  Spain|1985|       219|\n",
      "+-------+----+----------+\n",
      "only showing top 5 rows\n",
      "\n"
     ]
    }
   ],
   "source": [
    "SpainSuicides = suicides.select(\"country\",\"year\",\"suicide_no\").filter(\"country = 'Spain'\")\n",
    "SpainSuicides.show(5)"
   ]
  },
  {
   "cell_type": "code",
   "execution_count": 14,
   "metadata": {},
   "outputs": [
    {
     "data": {
      "text/plain": [
       "0.30660445126778024"
      ]
     },
     "execution_count": 14,
     "metadata": {},
     "output_type": "execute_result"
    }
   ],
   "source": [
    "corr = suicides.corr( 'suicide_no','Num_Suicides_100k' )\n",
    "corr"
   ]
  },
  {
   "cell_type": "markdown",
   "metadata": {},
   "source": [
    "Observamos la corelacion entre la variable objetivo 'Numero de suicidios por 100.000 habitantes' y la variables 'suicidios totales'"
   ]
  },
  {
   "cell_type": "code",
   "execution_count": 15,
   "metadata": {
    "scrolled": true
   },
   "outputs": [
    {
     "name": "stdout",
     "output_type": "stream",
     "text": [
      "+------------------+----+----+-----------+-----------------+----------+----------+\n",
      "|           country|year| sex|        age|Num_Suicides_100k|suicide_no|population|\n",
      "+------------------+----+----+-----------+-----------------+----------+----------+\n",
      "|Russian Federation|1994|male|35-54 years|            117.3|     22338|  19044200|\n",
      "+------------------+----+----+-----------+-----------------+----------+----------+\n",
      "\n"
     ]
    }
   ],
   "source": [
    "maxSuicide = max(suicides.select('suicide_no').collect())[0]\n",
    "PaisxSuicides = suicides.select('country' ,'year' ,'sex' , 'age' , 'Num_Suicides_100k', 'suicide_no','population').filter(\"suicide_no = 22338\").show()"
   ]
  },
  {
   "cell_type": "code",
   "execution_count": 16,
   "metadata": {},
   "outputs": [
    {
     "data": {
      "text/plain": [
       "224.97"
      ]
     },
     "execution_count": 16,
     "metadata": {},
     "output_type": "execute_result"
    }
   ],
   "source": [
    "max(suicides.select('Num_Suicides_100k').collect())[0]"
   ]
  },
  {
   "cell_type": "code",
   "execution_count": 17,
   "metadata": {},
   "outputs": [
    {
     "data": {
      "text/plain": [
       "Row(suicide_no=22338)"
      ]
     },
     "execution_count": 17,
     "metadata": {},
     "output_type": "execute_result"
    }
   ],
   "source": [
    "max(suicides.select('suicide_no').collect())"
   ]
  },
  {
   "cell_type": "code",
   "execution_count": 18,
   "metadata": {},
   "outputs": [
    {
     "data": {
      "text/plain": [
       "32"
      ]
     },
     "execution_count": 18,
     "metadata": {},
     "output_type": "execute_result"
    }
   ],
   "source": [
    "suicides.select('year').distinct().count()"
   ]
  },
  {
   "cell_type": "markdown",
   "metadata": {},
   "source": [
    "### Aquí empezamos"
   ]
  },
  {
   "cell_type": "markdown",
   "metadata": {},
   "source": [
    "### -------------------------------------------------------------------------------------------------------------------------"
   ]
  },
  {
   "cell_type": "markdown",
   "metadata": {},
   "source": [
    "# Creamos el transformer"
   ]
  },
  {
   "cell_type": "code",
   "execution_count": 19,
   "metadata": {},
   "outputs": [],
   "source": [
    "edades = []\n",
    "for i in range(suicides.select('age').distinct().count()):\n",
    "    edades.append(suicides.select('age').distinct().collect()[i][0])"
   ]
  },
  {
   "cell_type": "code",
   "execution_count": 20,
   "metadata": {},
   "outputs": [
    {
     "data": {
      "text/plain": [
       "['55-74 years',\n",
       " '25-34 years',\n",
       " '5-14 years',\n",
       " '75+ years',\n",
       " '15-24 years',\n",
       " '35-54 years']"
      ]
     },
     "execution_count": 20,
     "metadata": {},
     "output_type": "execute_result"
    }
   ],
   "source": [
    "edades"
   ]
  },
  {
   "cell_type": "code",
   "execution_count": 21,
   "metadata": {},
   "outputs": [],
   "source": [
    "import pyspark.sql.types as typ\n",
    "from pyspark.sql.functions import col, expr, when\n",
    "#suicides = suicides.withColumn('sexBin', when((col(\"sex\") == \"male\").otherwise(0)))\n",
    "new_column = when(col(\"sex\") == 'male' , 0).when(col(\"sex\")=='female', 1)\n",
    "suicides = suicides.withColumn(\"sex\" , new_column)\n",
    "\n",
    "new_column_1 = when(col(\"age\") == edades[2] , 0).when(col(\"age\") == edades[4] , 1).when(col(\"age\") == edades[1] , 2).when(col(\"age\") == edades[5] , 3).when(col(\"age\") == edades[0] , 4).when(col(\"age\") == edades[3] , 5)\n",
    "suicides = suicides.withColumn(\"age\" , new_column_1)\n",
    "\n",
    "\n"
   ]
  },
  {
   "cell_type": "code",
   "execution_count": 22,
   "metadata": {},
   "outputs": [],
   "source": [
    "#suicides = suicides.withColumn('suicides_num', suicides['suicide_no'].cast(typ.DoubleType()))\n",
    "#suicides = suicides.withColumn('population', suicides['population'].cast(typ.DoubleType()))\n",
    "#suicides = suicides.withColumn('PIB_PerCapita', suicides['PIB_PerCapita'].cast(typ.DoubleType()))\n",
    "#suicides = suicides.withColumn('sex', suicides['sex'].cast(typ.DoubleType()))\n",
    "suicides = suicides.withColumn('age', suicides['age'].cast(typ.DoubleType()))\n",
    "\n"
   ]
  },
  {
   "cell_type": "code",
   "execution_count": 23,
   "metadata": {},
   "outputs": [],
   "source": [
    "import pyspark.ml.feature as ft\n",
    "\n",
    "encoder = ft.OneHotEncoder(\n",
    "    inputCol='age', \n",
    "    outputCol='age_vec')"
   ]
  },
  {
   "cell_type": "code",
   "execution_count": 24,
   "metadata": {},
   "outputs": [],
   "source": [
    "vectorizer = ft.VectorAssembler(inputCols=['suicide_no' , 'PIB_PerCapita'], outputCol= 'continuous_vec')"
   ]
  },
  {
   "cell_type": "code",
   "execution_count": 25,
   "metadata": {},
   "outputs": [],
   "source": [
    "normalizer = ft.StandardScaler(\n",
    "    inputCol=vectorizer.getOutputCol(), \n",
    "    outputCol='normalized', \n",
    "    withMean=True,\n",
    "    withStd=True\n",
    ")"
   ]
  },
  {
   "cell_type": "markdown",
   "metadata": {},
   "source": [
    "Nuestro obejtivo es que esta variable sea de tipo binario, en el caso del sexo, la variable viene dada como un string 'male' o 'female' y nostros lo que queremos es que esta variable nos aparezca en binario"
   ]
  },
  {
   "cell_type": "markdown",
   "metadata": {},
   "source": [
    "Con el comando withColum, vamos a sobreescribir la variable 'sex', ya que si el nombre no se cambia aplicando dicho comando, la variable se sustituye por el nuevo valor."
   ]
  },
  {
   "cell_type": "code",
   "execution_count": 26,
   "metadata": {},
   "outputs": [],
   "source": [
    "import pyspark.ml.feature as ft\n",
    "\n",
    "labels = ['year','population','Num_Suicides_100k']\n",
    "featuresCreator = ft.VectorAssembler(inputCols = labels + [encoder.getOutputCol() ] ,outputCol = 'features')"
   ]
  },
  {
   "cell_type": "code",
   "execution_count": 27,
   "metadata": {},
   "outputs": [],
   "source": [
    "from pyspark.ml.feature import PCA\n",
    "\n",
    "pca = PCA(k=6, inputCol = 'features' , outputCol = 'pcaFeature')\n"
   ]
  },
  {
   "cell_type": "markdown",
   "metadata": {},
   "source": [
    "### Creamos el Estimator - REGRESIÓN LOGÍSTICA"
   ]
  },
  {
   "cell_type": "code",
   "execution_count": 28,
   "metadata": {},
   "outputs": [],
   "source": [
    "\n",
    "logistic = cl.LogisticRegression(\n",
    "    maxIter=10, \n",
    "    regParam=0.01,\n",
    "    labelCol='sex'\n",
    "    )"
   ]
  },
  {
   "cell_type": "markdown",
   "metadata": {},
   "source": [
    "### Creamos el Pipeline"
   ]
  },
  {
   "cell_type": "markdown",
   "metadata": {},
   "source": [
    "El Pipeline es una funcion que se encarga de ejecutar los trasformadores y los algoritmos en un solo paso. Es como una tubería que transporta estimators y transformers hasta su ejecucion."
   ]
  },
  {
   "cell_type": "code",
   "execution_count": 29,
   "metadata": {},
   "outputs": [],
   "source": [
    "from pyspark.ml import Pipeline\n",
    "\n",
    "pipeline = Pipeline(stages=[encoder, vectorizer , normalizer, featuresCreator,pca, logistic])\n",
    "#pipeline = Pipeline(stages=[encoder, featuresCreator, logistic])"
   ]
  },
  {
   "cell_type": "code",
   "execution_count": 30,
   "metadata": {},
   "outputs": [],
   "source": [
    "suicides_train, suicides_test = suicides.randomSplit([0.8, 0.2], seed=666) \n",
    "\n",
    "#seed numero aleatorio a partir del cual hace la particion del DataFrame"
   ]
  },
  {
   "cell_type": "code",
   "execution_count": 31,
   "metadata": {},
   "outputs": [
    {
     "data": {
      "text/plain": [
       "22"
      ]
     },
     "execution_count": 31,
     "metadata": {},
     "output_type": "execute_result"
    }
   ],
   "source": [
    "suicides.select('Num_Suicides_100k').filter(\"Num_Suicides_100k > 150\").count()"
   ]
  },
  {
   "cell_type": "markdown",
   "metadata": {},
   "source": [
    "###### Entrenamos el modelo"
   ]
  },
  {
   "cell_type": "code",
   "execution_count": 32,
   "metadata": {
    "scrolled": true
   },
   "outputs": [],
   "source": [
    "model = pipeline.fit(suicides_train)"
   ]
  },
  {
   "cell_type": "code",
   "execution_count": 33,
   "metadata": {},
   "outputs": [],
   "source": [
    "test_model = model.transform(suicides_test)"
   ]
  },
  {
   "cell_type": "code",
   "execution_count": 34,
   "metadata": {},
   "outputs": [
    {
     "data": {
      "text/plain": [
       "[Row(country='Albania', year=1987, sex=0, age=5.0, suicide_no=1, population=21800, Num_Suicides_100k=4.59, country-year='Albania1987', IDH_Y=None, PIB_Y='2,156,624,900', PIB_PerCapita=796, generation='G.I. Generation', age_vec=SparseVector(5, {}), continuous_vec=DenseVector([1.0, 796.0]), normalized=DenseVector([-0.2642, -0.8496]), features=SparseVector(8, {0: 1987.0, 1: 21800.0, 2: 4.59}), pcaFeature=DenseVector([-21800.0, -40.3562, 1986.5945, 0.4259, -0.024, 0.1916]), rawPrediction=DenseVector([-0.5902, 0.5902]), probability=DenseVector([0.3566, 0.6434]), prediction=1.0)]"
      ]
     },
     "execution_count": 34,
     "metadata": {},
     "output_type": "execute_result"
    }
   ],
   "source": [
    "test_model.take(1)"
   ]
  },
  {
   "cell_type": "markdown",
   "metadata": {},
   "source": [
    "#### PARTE DE EVALUACIÓN: Vamos a ver cómo de bueno es el modelo"
   ]
  },
  {
   "cell_type": "code",
   "execution_count": 35,
   "metadata": {},
   "outputs": [
    {
     "name": "stdout",
     "output_type": "stream",
     "text": [
      "0.7904848798440914\n",
      "0.7343022107630246\n"
     ]
    }
   ],
   "source": [
    "import pyspark.ml.evaluation as ev\n",
    "\n",
    "evaluator = ev.BinaryClassificationEvaluator(\n",
    "    rawPredictionCol='probability', \n",
    "    labelCol='sex')\n",
    "\n",
    "print(evaluator.evaluate(test_model, {evaluator.metricName: 'areaUnderROC'}))\n",
    "print(evaluator.evaluate(test_model, {evaluator.metricName: 'areaUnderPR'}))"
   ]
  },
  {
   "cell_type": "code",
   "execution_count": 36,
   "metadata": {},
   "outputs": [
    {
     "name": "stdout",
     "output_type": "stream",
     "text": [
      "Accuracy = 0.728798\n"
     ]
    }
   ],
   "source": [
    "from pyspark.ml.evaluation import MulticlassClassificationEvaluator\n",
    "evaluator = MulticlassClassificationEvaluator(labelCol='sex', predictionCol='prediction', metricName='accuracy')\n",
    "accuracy = evaluator.evaluate(test_model)\n",
    "print('Accuracy = %g'  % accuracy)"
   ]
  },
  {
   "cell_type": "markdown",
   "metadata": {},
   "source": [
    "# Probando con Random Forest"
   ]
  },
  {
   "cell_type": "code",
   "execution_count": 37,
   "metadata": {},
   "outputs": [],
   "source": [
    "from pyspark.ml.feature import StringIndexer\n",
    "\n",
    "indexer = StringIndexer(inputCol=\"sex\", outputCol=\"sex_indexer\").fit(suicides)"
   ]
  },
  {
   "cell_type": "code",
   "execution_count": 38,
   "metadata": {},
   "outputs": [],
   "source": [
    "suicides_train, suicides_test = suicides.randomSplit([0.8 , 0.2], seed=666)"
   ]
  },
  {
   "cell_type": "code",
   "execution_count": 39,
   "metadata": {},
   "outputs": [],
   "source": [
    "from pyspark.ml import Pipeline\n",
    "\n",
    "classifier = cl.RandomForestClassifier(\n",
    "    numTrees=5, \n",
    "    maxDepth=5, \n",
    "    labelCol='sex_indexer')\n",
    "\n",
    "\n",
    "pipeline = Pipeline(\n",
    "    stages=[encoder, indexer ,vectorizer , normalizer, featuresCreator,pca, classifier])\n",
    "\n",
    "model1 = pipeline.fit(suicides_train)\n",
    "test = model1.transform(suicides_test)"
   ]
  },
  {
   "cell_type": "markdown",
   "metadata": {},
   "source": [
    "y_true = test.select(['Num_Suicides_100k_indexer']).collect()\n",
    "y_pred = test.select(['prediction']).collect()\n",
    "\n",
    "from sklearn.metrics import classification_report, confusion_matrix\n",
    "print(classification_report(y_true, y_pred))"
   ]
  },
  {
   "cell_type": "code",
   "execution_count": 40,
   "metadata": {},
   "outputs": [
    {
     "data": {
      "text/plain": [
       "[Row(country='Albania', year=1987, sex=0, age=5.0, suicide_no=1, population=21800, Num_Suicides_100k=4.59, country-year='Albania1987', IDH_Y=None, PIB_Y='2,156,624,900', PIB_PerCapita=796, generation='G.I. Generation', age_vec=SparseVector(5, {}), sex_indexer=0.0, continuous_vec=DenseVector([1.0, 796.0]), normalized=DenseVector([-0.2642, -0.8496]), features=SparseVector(8, {0: 1987.0, 1: 21800.0, 2: 4.59}), pcaFeature=DenseVector([-21800.0, -40.3562, 1986.5945, 0.4259, -0.024, 0.1916]), rawPrediction=DenseVector([1.6586, 3.3414]), probability=DenseVector([0.3317, 0.6683]), prediction=1.0)]"
      ]
     },
     "execution_count": 40,
     "metadata": {},
     "output_type": "execute_result"
    }
   ],
   "source": [
    "test.take(1)"
   ]
  },
  {
   "cell_type": "code",
   "execution_count": 41,
   "metadata": {},
   "outputs": [
    {
     "name": "stdout",
     "output_type": "stream",
     "text": [
      "0.7846154944684469\n",
      "0.7389757445399499\n"
     ]
    }
   ],
   "source": [
    "import pyspark.ml.evaluation as ev\n",
    "\n",
    "evaluator = ev.BinaryClassificationEvaluator(\n",
    "    rawPredictionCol='probability', \n",
    "    labelCol='sex_indexer')\n",
    "\n",
    "print(evaluator.evaluate(test, \n",
    "     {evaluator.metricName: 'areaUnderROC'}))\n",
    "print(evaluator.evaluate(test, {evaluator.metricName: 'areaUnderPR'}))"
   ]
  },
  {
   "cell_type": "code",
   "execution_count": 42,
   "metadata": {},
   "outputs": [
    {
     "name": "stdout",
     "output_type": "stream",
     "text": [
      "Accuracy = 0.72255\n"
     ]
    }
   ],
   "source": [
    "from pyspark.ml.evaluation import MulticlassClassificationEvaluator\n",
    "\n",
    "evaluator = MulticlassClassificationEvaluator(labelCol='sex_indexer', predictionCol='prediction', metricName='accuracy')\n",
    "accuracy = evaluator.evaluate(test)\n",
    "print('Accuracy = %g'  % accuracy)"
   ]
  },
  {
   "cell_type": "markdown",
   "metadata": {},
   "source": [
    "# Hyper_Tunning Random Forest"
   ]
  },
  {
   "cell_type": "code",
   "execution_count": 43,
   "metadata": {},
   "outputs": [],
   "source": [
    "import pyspark.ml.tuning as tune\n",
    "import pyspark.ml.evaluation as ev"
   ]
  },
  {
   "cell_type": "code",
   "execution_count": 44,
   "metadata": {},
   "outputs": [],
   "source": [
    "classifier = cl.RandomForestClassifier(numTrees=5, maxDepth=5, labelCol='sex_indexer')\n",
    "\n",
    "grid = tune.ParamGridBuilder().addGrid(classifier.numTrees, [2,4,6,8]).addGrid(classifier.maxDepth, [3,5,8,12]).build()"
   ]
  },
  {
   "cell_type": "code",
   "execution_count": 45,
   "metadata": {},
   "outputs": [],
   "source": [
    "evaluator = ev.BinaryClassificationEvaluator(rawPredictionCol='probability', labelCol='sex_indexer')"
   ]
  },
  {
   "cell_type": "code",
   "execution_count": 46,
   "metadata": {},
   "outputs": [],
   "source": [
    "cv = tune.CrossValidator(estimator=classifier, estimatorParamMaps=grid, evaluator=evaluator)"
   ]
  },
  {
   "cell_type": "code",
   "execution_count": 47,
   "metadata": {
    "scrolled": true
   },
   "outputs": [],
   "source": [
    "pipeline = Pipeline(stages=[encoder, indexer ,vectorizer , normalizer, featuresCreator,pca])\n",
    "data_transformer = pipeline.fit(suicides_train)"
   ]
  },
  {
   "cell_type": "code",
   "execution_count": 48,
   "metadata": {},
   "outputs": [],
   "source": [
    "cvModel = cv.fit(data_transformer.transform(suicides_train))"
   ]
  },
  {
   "cell_type": "code",
   "execution_count": 49,
   "metadata": {},
   "outputs": [
    {
     "name": "stdout",
     "output_type": "stream",
     "text": [
      "0.836805227930784\n",
      "0.8170722564641595\n"
     ]
    }
   ],
   "source": [
    "data_train = data_transformer.transform(suicides_test)\n",
    "results = cvModel.transform(data_train)\n",
    "\n",
    "print(evaluator.evaluate(results, {evaluator.metricName: 'areaUnderROC'}))\n",
    "print(evaluator.evaluate(results, {evaluator.metricName: 'areaUnderPR'}))"
   ]
  },
  {
   "cell_type": "code",
   "execution_count": 50,
   "metadata": {},
   "outputs": [
    {
     "name": "stdout",
     "output_type": "stream",
     "text": [
      "Accuracy = 0.753973\n"
     ]
    }
   ],
   "source": [
    "from pyspark.ml.evaluation import MulticlassClassificationEvaluator\n",
    "evaluator = MulticlassClassificationEvaluator(labelCol='sex_indexer', predictionCol='prediction', metricName='accuracy')\n",
    "accuracy = evaluator.evaluate(results)\n",
    "print('Accuracy = %g'  % accuracy)"
   ]
  },
  {
   "cell_type": "code",
   "execution_count": 51,
   "metadata": {},
   "outputs": [
    {
     "data": {
      "text/plain": [
       "([{'numTrees': 8}, {'maxDepth': 12}], 0.8325260658141422)"
      ]
     },
     "execution_count": 51,
     "metadata": {},
     "output_type": "execute_result"
    }
   ],
   "source": [
    "results = [\n",
    "    (\n",
    "        [\n",
    "            {key.name: paramValue} \n",
    "            for key, paramValue \n",
    "            in zip(\n",
    "                params.keys(), \n",
    "                params.values())\n",
    "        ], metric\n",
    "    ) \n",
    "    for params, metric \n",
    "    in zip(\n",
    "        cvModel.getEstimatorParamMaps(), \n",
    "        cvModel.avgMetrics\n",
    "    )\n",
    "]\n",
    "\n",
    "sorted(results, key=lambda el: el[1], reverse=True)[0]"
   ]
  },
  {
   "cell_type": "markdown",
   "metadata": {},
   "source": [
    "# Hyper_Tunning LogisticRegression"
   ]
  },
  {
   "cell_type": "code",
   "execution_count": null,
   "metadata": {},
   "outputs": [],
   "source": []
  }
 ],
 "metadata": {
  "kernelspec": {
   "display_name": "Python 3",
   "language": "python",
   "name": "python3"
  },
  "language_info": {
   "codemirror_mode": {
    "name": "ipython",
    "version": 3
   },
   "file_extension": ".py",
   "mimetype": "text/x-python",
   "name": "python",
   "nbconvert_exporter": "python",
   "pygments_lexer": "ipython3",
   "version": "3.7.6"
  }
 },
 "nbformat": 4,
 "nbformat_minor": 4
}

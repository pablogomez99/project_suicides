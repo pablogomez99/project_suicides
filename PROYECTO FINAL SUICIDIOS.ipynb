{
 "cells": [
  {
   "cell_type": "markdown",
   "metadata": {},
   "source": [
    "#                                      SUICIDES PROYECTO "
   ]
  },
  {
   "cell_type": "code",
   "execution_count": 1,
   "metadata": {},
   "outputs": [
    {
     "data": {
      "text/plain": [
       "'C:\\\\Spark\\\\spark-2.3.3-bin-hadoop2.7'"
      ]
     },
     "execution_count": 1,
     "metadata": {},
     "output_type": "execute_result"
    }
   ],
   "source": [
    "import findspark\n",
    "findspark.init()\n",
    "findspark.find()\n",
    "import pyspark\n",
    "findspark.find()"
   ]
  },
  {
   "cell_type": "code",
   "execution_count": 2,
   "metadata": {},
   "outputs": [
    {
     "name": "stdout",
     "output_type": "stream",
     "text": [
      "<SparkContext master=local[3] appName=pyspark-shell>\n"
     ]
    }
   ],
   "source": [
    "#solo correrla una vez / es el contexto\n",
    "from pyspark import SparkContext, SparkConf\n",
    "sc=SparkContext(master=\"local[3]\")\n",
    "print (sc)"
   ]
  },
  {
   "cell_type": "code",
   "execution_count": 3,
   "metadata": {},
   "outputs": [],
   "source": [
    "#me creo la aplicación\n",
    "from pyspark.sql.session import SparkSession\n",
    "spark = SparkSession.builder.appName(\"nombre_de_la_aplicacion\").getOrCreate()"
   ]
  },
  {
   "cell_type": "markdown",
   "metadata": {},
   "source": [
    "________________________________________________________________________________________________________________________"
   ]
  },
  {
   "cell_type": "markdown",
   "metadata": {},
   "source": [
    "### PREPRAMOS EL DATASET"
   ]
  },
  {
   "cell_type": "code",
   "execution_count": 4,
   "metadata": {},
   "outputs": [],
   "source": [
    "import pyspark.sql.types as typ\n",
    "\n",
    "labels = [\n",
    "    ('country', typ.StringType()),\n",
    "    ('year', typ.IntegerType()),\n",
    "    ('sex', typ.StringType()),\n",
    "    ('age', typ.StringType()),\n",
    "    ('suicide_no', typ.IntegerType()),\n",
    "    ('population', typ.IntegerType()),\n",
    "    ('suicides/100k pop', typ.DoubleType()),\n",
    "    ('country-year', typ.StringType()),\n",
    "    ('HDI for year', typ.DoubleType()),\n",
    "    (' gdp_for_year ($) ', typ.StringType()),\n",
    "    ('gdp_per_capita ($)', typ.IntegerType()),\n",
    "    ('generation', typ.StringType())\n",
    "]\n",
    "\n",
    "mi_schema = typ.StructType([typ.StructField(e[0], e[1], False) for e in labels])"
   ]
  },
  {
   "cell_type": "code",
   "execution_count": 5,
   "metadata": {},
   "outputs": [],
   "source": [
    "suicides =spark.read.csv('master.csv',header='true', inferSchema='false',schema = mi_schema,  sep=',')"
   ]
  },
  {
   "cell_type": "code",
   "execution_count": 6,
   "metadata": {},
   "outputs": [],
   "source": [
    "suicides = suicides.withColumnRenamed('suicides/100k pop','Num_Suicides_100k')\n",
    "suicides = suicides.withColumnRenamed('HDI for year','IDH_Y')\n",
    "suicides = suicides.withColumnRenamed(' gdp_for_year ($) ','PIB_Y')\n",
    "suicides = suicides.withColumnRenamed('gdp_per_capita ($)','PIB_PerCapita')"
   ]
  },
  {
   "cell_type": "markdown",
   "metadata": {},
   "source": [
    "##### CATEGORIZAMOS LAS VARIABLES 'SEX' Y 'YEAR'"
   ]
  },
  {
   "cell_type": "code",
   "execution_count": 7,
   "metadata": {},
   "outputs": [
    {
     "data": {
      "text/plain": [
       "['55-74 years',\n",
       " '25-34 years',\n",
       " '5-14 years',\n",
       " '75+ years',\n",
       " '15-24 years',\n",
       " '35-54 years']"
      ]
     },
     "execution_count": 7,
     "metadata": {},
     "output_type": "execute_result"
    }
   ],
   "source": [
    "edades = []\n",
    "for i in range(suicides.select('age').distinct().count()):\n",
    "    edades.append(suicides.select('age').distinct().collect()[i][0])\n",
    "edades"
   ]
  },
  {
   "cell_type": "code",
   "execution_count": 8,
   "metadata": {},
   "outputs": [
    {
     "name": "stdout",
     "output_type": "stream",
     "text": [
      "+---+---+\n",
      "|sex|age|\n",
      "+---+---+\n",
      "|  0|  1|\n",
      "|  0|  3|\n",
      "|  1|  1|\n",
      "|  0|  5|\n",
      "|  0|  2|\n",
      "+---+---+\n",
      "only showing top 5 rows\n",
      "\n"
     ]
    }
   ],
   "source": [
    "import pyspark.sql.types as typ\n",
    "from pyspark.sql.functions import col, expr, when\n",
    "\n",
    "#suicides = suicides.withColumn('sexBin', when((col(\"sex\") == \"male\").otherwise(0)))\n",
    "new_column = when(col(\"sex\") == 'male' , 0).when(col(\"sex\")=='female', 1)\n",
    "suicides = suicides.withColumn(\"sex\" , new_column)\n",
    "\n",
    "new_column_1 = when(col(\"age\") == edades[2] , 0).when(col(\"age\") == edades[4] , 1)\\\n",
    "                .when(col(\"age\") == edades[1] , 2).when(col(\"age\") == edades[5] , 3)\\\n",
    "                .when(col(\"age\") == edades[0] , 4).when(col(\"age\") == edades[3] , 5)\n",
    "suicides = suicides.withColumn(\"age\" , new_column_1)\n",
    "\n",
    "suicides.select('sex','age').show(5)"
   ]
  },
  {
   "cell_type": "markdown",
   "metadata": {},
   "source": [
    "_____________________________________________________________________________________________________________________"
   ]
  },
  {
   "cell_type": "markdown",
   "metadata": {},
   "source": [
    "### PROBANDO LAS FUNCIONES DE PYSPARK (count , filter , distinct , collect ,etc)"
   ]
  },
  {
   "cell_type": "code",
   "execution_count": 9,
   "metadata": {},
   "outputs": [],
   "source": [
    "pandaDf = suicides.toPandas()"
   ]
  },
  {
   "cell_type": "code",
   "execution_count": 10,
   "metadata": {},
   "outputs": [
    {
     "data": {
      "text/plain": [
       "27820"
      ]
     },
     "execution_count": 10,
     "metadata": {},
     "output_type": "execute_result"
    }
   ],
   "source": [
    "pandaDf['country'].count()"
   ]
  },
  {
   "cell_type": "code",
   "execution_count": 11,
   "metadata": {},
   "outputs": [
    {
     "data": {
      "text/plain": [
       "country                  0\n",
       "year                     0\n",
       "sex                      0\n",
       "age                      0\n",
       "suicide_no               0\n",
       "population               0\n",
       "Num_Suicides_100k        0\n",
       "country-year             0\n",
       "IDH_Y                19456\n",
       "PIB_Y                    0\n",
       "PIB_PerCapita            0\n",
       "generation               0\n",
       "dtype: int64"
      ]
     },
     "execution_count": 11,
     "metadata": {},
     "output_type": "execute_result"
    }
   ],
   "source": [
    "pandaDf.isnull().sum()"
   ]
  },
  {
   "cell_type": "code",
   "execution_count": 12,
   "metadata": {},
   "outputs": [
    {
     "data": {
      "text/plain": [
       "0.699352983465133"
      ]
     },
     "execution_count": 12,
     "metadata": {},
     "output_type": "execute_result"
    }
   ],
   "source": [
    "19456/len(pandaDf)"
   ]
  },
  {
   "cell_type": "code",
   "execution_count": 13,
   "metadata": {},
   "outputs": [
    {
     "data": {
      "text/html": [
       "<style  type=\"text/css\" >\n",
       "    #T_d744bce6_a4d8_11ea_8cfc_b0bb45981773row0_col0 {\n",
       "            background-color:  #b40426;\n",
       "            color:  #f1f1f1;\n",
       "        }    #T_d744bce6_a4d8_11ea_8cfc_b0bb45981773row0_col1 {\n",
       "            background-color:  #98b9ff;\n",
       "            color:  #000000;\n",
       "        }    #T_d744bce6_a4d8_11ea_8cfc_b0bb45981773row0_col2 {\n",
       "            background-color:  #4c66d6;\n",
       "            color:  #000000;\n",
       "        }    #T_d744bce6_a4d8_11ea_8cfc_b0bb45981773row0_col3 {\n",
       "            background-color:  #6180e9;\n",
       "            color:  #000000;\n",
       "        }    #T_d744bce6_a4d8_11ea_8cfc_b0bb45981773row0_col4 {\n",
       "            background-color:  #4e68d8;\n",
       "            color:  #000000;\n",
       "        }    #T_d744bce6_a4d8_11ea_8cfc_b0bb45981773row0_col5 {\n",
       "            background-color:  #8db0fe;\n",
       "            color:  #000000;\n",
       "        }    #T_d744bce6_a4d8_11ea_8cfc_b0bb45981773row0_col6 {\n",
       "            background-color:  #b5cdfa;\n",
       "            color:  #000000;\n",
       "        }    #T_d744bce6_a4d8_11ea_8cfc_b0bb45981773row0_col7 {\n",
       "            background-color:  #abc8fd;\n",
       "            color:  #000000;\n",
       "        }    #T_d744bce6_a4d8_11ea_8cfc_b0bb45981773row1_col0 {\n",
       "            background-color:  #455cce;\n",
       "            color:  #f1f1f1;\n",
       "        }    #T_d744bce6_a4d8_11ea_8cfc_b0bb45981773row1_col1 {\n",
       "            background-color:  #b40426;\n",
       "            color:  #f1f1f1;\n",
       "        }    #T_d744bce6_a4d8_11ea_8cfc_b0bb45981773row1_col2 {\n",
       "            background-color:  #4b64d5;\n",
       "            color:  #f1f1f1;\n",
       "        }    #T_d744bce6_a4d8_11ea_8cfc_b0bb45981773row1_col3 {\n",
       "            background-color:  #3b4cc0;\n",
       "            color:  #f1f1f1;\n",
       "        }    #T_d744bce6_a4d8_11ea_8cfc_b0bb45981773row1_col4 {\n",
       "            background-color:  #4f69d9;\n",
       "            color:  #000000;\n",
       "        }    #T_d744bce6_a4d8_11ea_8cfc_b0bb45981773row1_col5 {\n",
       "            background-color:  #3b4cc0;\n",
       "            color:  #f1f1f1;\n",
       "        }    #T_d744bce6_a4d8_11ea_8cfc_b0bb45981773row1_col6 {\n",
       "            background-color:  #3b4cc0;\n",
       "            color:  #f1f1f1;\n",
       "        }    #T_d744bce6_a4d8_11ea_8cfc_b0bb45981773row1_col7 {\n",
       "            background-color:  #3b4cc0;\n",
       "            color:  #f1f1f1;\n",
       "        }    #T_d744bce6_a4d8_11ea_8cfc_b0bb45981773row2_col0 {\n",
       "            background-color:  #465ecf;\n",
       "            color:  #f1f1f1;\n",
       "        }    #T_d744bce6_a4d8_11ea_8cfc_b0bb45981773row2_col1 {\n",
       "            background-color:  #98b9ff;\n",
       "            color:  #000000;\n",
       "        }    #T_d744bce6_a4d8_11ea_8cfc_b0bb45981773row2_col2 {\n",
       "            background-color:  #b40426;\n",
       "            color:  #f1f1f1;\n",
       "        }    #T_d744bce6_a4d8_11ea_8cfc_b0bb45981773row2_col3 {\n",
       "            background-color:  #7a9df8;\n",
       "            color:  #000000;\n",
       "        }    #T_d744bce6_a4d8_11ea_8cfc_b0bb45981773row2_col4 {\n",
       "            background-color:  #3b4cc0;\n",
       "            color:  #f1f1f1;\n",
       "        }    #T_d744bce6_a4d8_11ea_8cfc_b0bb45981773row2_col5 {\n",
       "            background-color:  #e7d7ce;\n",
       "            color:  #000000;\n",
       "        }    #T_d744bce6_a4d8_11ea_8cfc_b0bb45981773row2_col6 {\n",
       "            background-color:  #3b4cc0;\n",
       "            color:  #f1f1f1;\n",
       "        }    #T_d744bce6_a4d8_11ea_8cfc_b0bb45981773row2_col7 {\n",
       "            background-color:  #3b4cc0;\n",
       "            color:  #f1f1f1;\n",
       "        }    #T_d744bce6_a4d8_11ea_8cfc_b0bb45981773row3_col0 {\n",
       "            background-color:  #445acc;\n",
       "            color:  #f1f1f1;\n",
       "        }    #T_d744bce6_a4d8_11ea_8cfc_b0bb45981773row3_col1 {\n",
       "            background-color:  #7396f5;\n",
       "            color:  #000000;\n",
       "        }    #T_d744bce6_a4d8_11ea_8cfc_b0bb45981773row3_col2 {\n",
       "            background-color:  #6384eb;\n",
       "            color:  #000000;\n",
       "        }    #T_d744bce6_a4d8_11ea_8cfc_b0bb45981773row3_col3 {\n",
       "            background-color:  #b40426;\n",
       "            color:  #f1f1f1;\n",
       "        }    #T_d744bce6_a4d8_11ea_8cfc_b0bb45981773row3_col4 {\n",
       "            background-color:  #f5c0a7;\n",
       "            color:  #000000;\n",
       "        }    #T_d744bce6_a4d8_11ea_8cfc_b0bb45981773row3_col5 {\n",
       "            background-color:  #dddcdc;\n",
       "            color:  #000000;\n",
       "        }    #T_d744bce6_a4d8_11ea_8cfc_b0bb45981773row3_col6 {\n",
       "            background-color:  #6a8bef;\n",
       "            color:  #000000;\n",
       "        }    #T_d744bce6_a4d8_11ea_8cfc_b0bb45981773row3_col7 {\n",
       "            background-color:  #4c66d6;\n",
       "            color:  #000000;\n",
       "        }    #T_d744bce6_a4d8_11ea_8cfc_b0bb45981773row4_col0 {\n",
       "            background-color:  #485fd1;\n",
       "            color:  #f1f1f1;\n",
       "        }    #T_d744bce6_a4d8_11ea_8cfc_b0bb45981773row4_col1 {\n",
       "            background-color:  #9bbcff;\n",
       "            color:  #000000;\n",
       "        }    #T_d744bce6_a4d8_11ea_8cfc_b0bb45981773row4_col2 {\n",
       "            background-color:  #3b4cc0;\n",
       "            color:  #f1f1f1;\n",
       "        }    #T_d744bce6_a4d8_11ea_8cfc_b0bb45981773row4_col3 {\n",
       "            background-color:  #f7b89c;\n",
       "            color:  #000000;\n",
       "        }    #T_d744bce6_a4d8_11ea_8cfc_b0bb45981773row4_col4 {\n",
       "            background-color:  #b40426;\n",
       "            color:  #f1f1f1;\n",
       "        }    #T_d744bce6_a4d8_11ea_8cfc_b0bb45981773row4_col5 {\n",
       "            background-color:  #9abbff;\n",
       "            color:  #000000;\n",
       "        }    #T_d744bce6_a4d8_11ea_8cfc_b0bb45981773row4_col6 {\n",
       "            background-color:  #5a78e4;\n",
       "            color:  #000000;\n",
       "        }    #T_d744bce6_a4d8_11ea_8cfc_b0bb45981773row4_col7 {\n",
       "            background-color:  #536edd;\n",
       "            color:  #000000;\n",
       "        }    #T_d744bce6_a4d8_11ea_8cfc_b0bb45981773row5_col0 {\n",
       "            background-color:  #3b4cc0;\n",
       "            color:  #f1f1f1;\n",
       "        }    #T_d744bce6_a4d8_11ea_8cfc_b0bb45981773row5_col1 {\n",
       "            background-color:  #3b4cc0;\n",
       "            color:  #f1f1f1;\n",
       "        }    #T_d744bce6_a4d8_11ea_8cfc_b0bb45981773row5_col2 {\n",
       "            background-color:  #c0d4f5;\n",
       "            color:  #000000;\n",
       "        }    #T_d744bce6_a4d8_11ea_8cfc_b0bb45981773row5_col3 {\n",
       "            background-color:  #bed2f6;\n",
       "            color:  #000000;\n",
       "        }    #T_d744bce6_a4d8_11ea_8cfc_b0bb45981773row5_col4 {\n",
       "            background-color:  #4e68d8;\n",
       "            color:  #000000;\n",
       "        }    #T_d744bce6_a4d8_11ea_8cfc_b0bb45981773row5_col5 {\n",
       "            background-color:  #b40426;\n",
       "            color:  #f1f1f1;\n",
       "        }    #T_d744bce6_a4d8_11ea_8cfc_b0bb45981773row5_col6 {\n",
       "            background-color:  #516ddb;\n",
       "            color:  #000000;\n",
       "        }    #T_d744bce6_a4d8_11ea_8cfc_b0bb45981773row5_col7 {\n",
       "            background-color:  #3b4cc0;\n",
       "            color:  #f1f1f1;\n",
       "        }    #T_d744bce6_a4d8_11ea_8cfc_b0bb45981773row6_col0 {\n",
       "            background-color:  #bcd2f7;\n",
       "            color:  #000000;\n",
       "        }    #T_d744bce6_a4d8_11ea_8cfc_b0bb45981773row6_col1 {\n",
       "            background-color:  #98b9ff;\n",
       "            color:  #000000;\n",
       "        }    #T_d744bce6_a4d8_11ea_8cfc_b0bb45981773row6_col2 {\n",
       "            background-color:  #4b64d5;\n",
       "            color:  #f1f1f1;\n",
       "        }    #T_d744bce6_a4d8_11ea_8cfc_b0bb45981773row6_col3 {\n",
       "            background-color:  #90b2fe;\n",
       "            color:  #000000;\n",
       "        }    #T_d744bce6_a4d8_11ea_8cfc_b0bb45981773row6_col4 {\n",
       "            background-color:  #6b8df0;\n",
       "            color:  #000000;\n",
       "        }    #T_d744bce6_a4d8_11ea_8cfc_b0bb45981773row6_col5 {\n",
       "            background-color:  #aac7fd;\n",
       "            color:  #000000;\n",
       "        }    #T_d744bce6_a4d8_11ea_8cfc_b0bb45981773row6_col6 {\n",
       "            background-color:  #b40426;\n",
       "            color:  #f1f1f1;\n",
       "        }    #T_d744bce6_a4d8_11ea_8cfc_b0bb45981773row6_col7 {\n",
       "            background-color:  #f29072;\n",
       "            color:  #000000;\n",
       "        }    #T_d744bce6_a4d8_11ea_8cfc_b0bb45981773row7_col0 {\n",
       "            background-color:  #b5cdfa;\n",
       "            color:  #000000;\n",
       "        }    #T_d744bce6_a4d8_11ea_8cfc_b0bb45981773row7_col1 {\n",
       "            background-color:  #98b9ff;\n",
       "            color:  #000000;\n",
       "        }    #T_d744bce6_a4d8_11ea_8cfc_b0bb45981773row7_col2 {\n",
       "            background-color:  #4b64d5;\n",
       "            color:  #f1f1f1;\n",
       "        }    #T_d744bce6_a4d8_11ea_8cfc_b0bb45981773row7_col3 {\n",
       "            background-color:  #7597f6;\n",
       "            color:  #000000;\n",
       "        }    #T_d744bce6_a4d8_11ea_8cfc_b0bb45981773row7_col4 {\n",
       "            background-color:  #6485ec;\n",
       "            color:  #000000;\n",
       "        }    #T_d744bce6_a4d8_11ea_8cfc_b0bb45981773row7_col5 {\n",
       "            background-color:  #98b9ff;\n",
       "            color:  #000000;\n",
       "        }    #T_d744bce6_a4d8_11ea_8cfc_b0bb45981773row7_col6 {\n",
       "            background-color:  #f29072;\n",
       "            color:  #000000;\n",
       "        }    #T_d744bce6_a4d8_11ea_8cfc_b0bb45981773row7_col7 {\n",
       "            background-color:  #b40426;\n",
       "            color:  #f1f1f1;\n",
       "        }</style><table id=\"T_d744bce6_a4d8_11ea_8cfc_b0bb45981773\" ><thead>    <tr>        <th class=\"blank level0\" ></th>        <th class=\"col_heading level0 col0\" >year</th>        <th class=\"col_heading level0 col1\" >sex</th>        <th class=\"col_heading level0 col2\" >age</th>        <th class=\"col_heading level0 col3\" >suicide_no</th>        <th class=\"col_heading level0 col4\" >population</th>        <th class=\"col_heading level0 col5\" >Num_Suicides_100k</th>        <th class=\"col_heading level0 col6\" >IDH_Y</th>        <th class=\"col_heading level0 col7\" >PIB_PerCapita</th>    </tr></thead><tbody>\n",
       "                <tr>\n",
       "                        <th id=\"T_d744bce6_a4d8_11ea_8cfc_b0bb45981773level0_row0\" class=\"row_heading level0 row0\" >year</th>\n",
       "                        <td id=\"T_d744bce6_a4d8_11ea_8cfc_b0bb45981773row0_col0\" class=\"data row0 col0\" >1</td>\n",
       "                        <td id=\"T_d744bce6_a4d8_11ea_8cfc_b0bb45981773row0_col1\" class=\"data row0 col1\" >0</td>\n",
       "                        <td id=\"T_d744bce6_a4d8_11ea_8cfc_b0bb45981773row0_col2\" class=\"data row0 col2\" >0.00293288</td>\n",
       "                        <td id=\"T_d744bce6_a4d8_11ea_8cfc_b0bb45981773row0_col3\" class=\"data row0 col3\" >-0.00454596</td>\n",
       "                        <td id=\"T_d744bce6_a4d8_11ea_8cfc_b0bb45981773row0_col4\" class=\"data row0 col4\" >0.00885017</td>\n",
       "                        <td id=\"T_d744bce6_a4d8_11ea_8cfc_b0bb45981773row0_col5\" class=\"data row0 col5\" >-0.0390368</td>\n",
       "                        <td id=\"T_d744bce6_a4d8_11ea_8cfc_b0bb45981773row0_col6\" class=\"data row0 col6\" >0.366786</td>\n",
       "                        <td id=\"T_d744bce6_a4d8_11ea_8cfc_b0bb45981773row0_col7\" class=\"data row0 col7\" >0.339134</td>\n",
       "            </tr>\n",
       "            <tr>\n",
       "                        <th id=\"T_d744bce6_a4d8_11ea_8cfc_b0bb45981773level0_row1\" class=\"row_heading level0 row1\" >sex</th>\n",
       "                        <td id=\"T_d744bce6_a4d8_11ea_8cfc_b0bb45981773row1_col0\" class=\"data row1 col0\" >0</td>\n",
       "                        <td id=\"T_d744bce6_a4d8_11ea_8cfc_b0bb45981773row1_col1\" class=\"data row1 col1\" >1</td>\n",
       "                        <td id=\"T_d744bce6_a4d8_11ea_8cfc_b0bb45981773row1_col2\" class=\"data row1 col2\" >6.45364e-19</td>\n",
       "                        <td id=\"T_d744bce6_a4d8_11ea_8cfc_b0bb45981773row1_col3\" class=\"data row1 col3\" >-0.144629</td>\n",
       "                        <td id=\"T_d744bce6_a4d8_11ea_8cfc_b0bb45981773row1_col4\" class=\"data row1 col4\" >0.0112421</td>\n",
       "                        <td id=\"T_d744bce6_a4d8_11ea_8cfc_b0bb45981773row1_col5\" class=\"data row1 col5\" >-0.391496</td>\n",
       "                        <td id=\"T_d744bce6_a4d8_11ea_8cfc_b0bb45981773row1_col6\" class=\"data row1 col6\" >1.42177e-19</td>\n",
       "                        <td id=\"T_d744bce6_a4d8_11ea_8cfc_b0bb45981773row1_col7\" class=\"data row1 col7\" >-1.33626e-18</td>\n",
       "            </tr>\n",
       "            <tr>\n",
       "                        <th id=\"T_d744bce6_a4d8_11ea_8cfc_b0bb45981773level0_row2\" class=\"row_heading level0 row2\" >age</th>\n",
       "                        <td id=\"T_d744bce6_a4d8_11ea_8cfc_b0bb45981773row2_col0\" class=\"data row2 col0\" >0.00293288</td>\n",
       "                        <td id=\"T_d744bce6_a4d8_11ea_8cfc_b0bb45981773row2_col1\" class=\"data row2 col1\" >6.45364e-19</td>\n",
       "                        <td id=\"T_d744bce6_a4d8_11ea_8cfc_b0bb45981773row2_col2\" class=\"data row2 col2\" >1</td>\n",
       "                        <td id=\"T_d744bce6_a4d8_11ea_8cfc_b0bb45981773row2_col3\" class=\"data row2 col3\" >0.0798924</td>\n",
       "                        <td id=\"T_d744bce6_a4d8_11ea_8cfc_b0bb45981773row2_col4\" class=\"data row2 col4\" >-0.0607161</td>\n",
       "                        <td id=\"T_d744bce6_a4d8_11ea_8cfc_b0bb45981773row2_col5\" class=\"data row2 col5\" >0.362587</td>\n",
       "                        <td id=\"T_d744bce6_a4d8_11ea_8cfc_b0bb45981773row2_col6\" class=\"data row2 col6\" >-5.82753e-19</td>\n",
       "                        <td id=\"T_d744bce6_a4d8_11ea_8cfc_b0bb45981773row2_col7\" class=\"data row2 col7\" >0.000784917</td>\n",
       "            </tr>\n",
       "            <tr>\n",
       "                        <th id=\"T_d744bce6_a4d8_11ea_8cfc_b0bb45981773level0_row3\" class=\"row_heading level0 row3\" >suicide_no</th>\n",
       "                        <td id=\"T_d744bce6_a4d8_11ea_8cfc_b0bb45981773row3_col0\" class=\"data row3 col0\" >-0.00454596</td>\n",
       "                        <td id=\"T_d744bce6_a4d8_11ea_8cfc_b0bb45981773row3_col1\" class=\"data row3 col1\" >-0.144629</td>\n",
       "                        <td id=\"T_d744bce6_a4d8_11ea_8cfc_b0bb45981773row3_col2\" class=\"data row3 col2\" >0.0798924</td>\n",
       "                        <td id=\"T_d744bce6_a4d8_11ea_8cfc_b0bb45981773row3_col3\" class=\"data row3 col3\" >1</td>\n",
       "                        <td id=\"T_d744bce6_a4d8_11ea_8cfc_b0bb45981773row3_col4\" class=\"data row3 col4\" >0.616162</td>\n",
       "                        <td id=\"T_d744bce6_a4d8_11ea_8cfc_b0bb45981773row3_col5\" class=\"data row3 col5\" >0.306604</td>\n",
       "                        <td id=\"T_d744bce6_a4d8_11ea_8cfc_b0bb45981773row3_col6\" class=\"data row3 col6\" >0.151399</td>\n",
       "                        <td id=\"T_d744bce6_a4d8_11ea_8cfc_b0bb45981773row3_col7\" class=\"data row3 col7\" >0.0613297</td>\n",
       "            </tr>\n",
       "            <tr>\n",
       "                        <th id=\"T_d744bce6_a4d8_11ea_8cfc_b0bb45981773level0_row4\" class=\"row_heading level0 row4\" >population</th>\n",
       "                        <td id=\"T_d744bce6_a4d8_11ea_8cfc_b0bb45981773row4_col0\" class=\"data row4 col0\" >0.00885017</td>\n",
       "                        <td id=\"T_d744bce6_a4d8_11ea_8cfc_b0bb45981773row4_col1\" class=\"data row4 col1\" >0.0112421</td>\n",
       "                        <td id=\"T_d744bce6_a4d8_11ea_8cfc_b0bb45981773row4_col2\" class=\"data row4 col2\" >-0.0607161</td>\n",
       "                        <td id=\"T_d744bce6_a4d8_11ea_8cfc_b0bb45981773row4_col3\" class=\"data row4 col3\" >0.616162</td>\n",
       "                        <td id=\"T_d744bce6_a4d8_11ea_8cfc_b0bb45981773row4_col4\" class=\"data row4 col4\" >1</td>\n",
       "                        <td id=\"T_d744bce6_a4d8_11ea_8cfc_b0bb45981773row4_col5\" class=\"data row4 col5\" >0.00828497</td>\n",
       "                        <td id=\"T_d744bce6_a4d8_11ea_8cfc_b0bb45981773row4_col6\" class=\"data row4 col6\" >0.102943</td>\n",
       "                        <td id=\"T_d744bce6_a4d8_11ea_8cfc_b0bb45981773row4_col7\" class=\"data row4 col7\" >0.0815099</td>\n",
       "            </tr>\n",
       "            <tr>\n",
       "                        <th id=\"T_d744bce6_a4d8_11ea_8cfc_b0bb45981773level0_row5\" class=\"row_heading level0 row5\" >Num_Suicides_100k</th>\n",
       "                        <td id=\"T_d744bce6_a4d8_11ea_8cfc_b0bb45981773row5_col0\" class=\"data row5 col0\" >-0.0390368</td>\n",
       "                        <td id=\"T_d744bce6_a4d8_11ea_8cfc_b0bb45981773row5_col1\" class=\"data row5 col1\" >-0.391496</td>\n",
       "                        <td id=\"T_d744bce6_a4d8_11ea_8cfc_b0bb45981773row5_col2\" class=\"data row5 col2\" >0.362587</td>\n",
       "                        <td id=\"T_d744bce6_a4d8_11ea_8cfc_b0bb45981773row5_col3\" class=\"data row5 col3\" >0.306604</td>\n",
       "                        <td id=\"T_d744bce6_a4d8_11ea_8cfc_b0bb45981773row5_col4\" class=\"data row5 col4\" >0.00828497</td>\n",
       "                        <td id=\"T_d744bce6_a4d8_11ea_8cfc_b0bb45981773row5_col5\" class=\"data row5 col5\" >1</td>\n",
       "                        <td id=\"T_d744bce6_a4d8_11ea_8cfc_b0bb45981773row5_col6\" class=\"data row5 col6\" >0.0742791</td>\n",
       "                        <td id=\"T_d744bce6_a4d8_11ea_8cfc_b0bb45981773row5_col7\" class=\"data row5 col7\" >0.00178513</td>\n",
       "            </tr>\n",
       "            <tr>\n",
       "                        <th id=\"T_d744bce6_a4d8_11ea_8cfc_b0bb45981773level0_row6\" class=\"row_heading level0 row6\" >IDH_Y</th>\n",
       "                        <td id=\"T_d744bce6_a4d8_11ea_8cfc_b0bb45981773row6_col0\" class=\"data row6 col0\" >0.366786</td>\n",
       "                        <td id=\"T_d744bce6_a4d8_11ea_8cfc_b0bb45981773row6_col1\" class=\"data row6 col1\" >1.42177e-19</td>\n",
       "                        <td id=\"T_d744bce6_a4d8_11ea_8cfc_b0bb45981773row6_col2\" class=\"data row6 col2\" >-5.82753e-19</td>\n",
       "                        <td id=\"T_d744bce6_a4d8_11ea_8cfc_b0bb45981773row6_col3\" class=\"data row6 col3\" >0.151399</td>\n",
       "                        <td id=\"T_d744bce6_a4d8_11ea_8cfc_b0bb45981773row6_col4\" class=\"data row6 col4\" >0.102943</td>\n",
       "                        <td id=\"T_d744bce6_a4d8_11ea_8cfc_b0bb45981773row6_col5\" class=\"data row6 col5\" >0.0742791</td>\n",
       "                        <td id=\"T_d744bce6_a4d8_11ea_8cfc_b0bb45981773row6_col6\" class=\"data row6 col6\" >1</td>\n",
       "                        <td id=\"T_d744bce6_a4d8_11ea_8cfc_b0bb45981773row6_col7\" class=\"data row6 col7\" >0.771228</td>\n",
       "            </tr>\n",
       "            <tr>\n",
       "                        <th id=\"T_d744bce6_a4d8_11ea_8cfc_b0bb45981773level0_row7\" class=\"row_heading level0 row7\" >PIB_PerCapita</th>\n",
       "                        <td id=\"T_d744bce6_a4d8_11ea_8cfc_b0bb45981773row7_col0\" class=\"data row7 col0\" >0.339134</td>\n",
       "                        <td id=\"T_d744bce6_a4d8_11ea_8cfc_b0bb45981773row7_col1\" class=\"data row7 col1\" >-1.33626e-18</td>\n",
       "                        <td id=\"T_d744bce6_a4d8_11ea_8cfc_b0bb45981773row7_col2\" class=\"data row7 col2\" >0.000784917</td>\n",
       "                        <td id=\"T_d744bce6_a4d8_11ea_8cfc_b0bb45981773row7_col3\" class=\"data row7 col3\" >0.0613297</td>\n",
       "                        <td id=\"T_d744bce6_a4d8_11ea_8cfc_b0bb45981773row7_col4\" class=\"data row7 col4\" >0.0815099</td>\n",
       "                        <td id=\"T_d744bce6_a4d8_11ea_8cfc_b0bb45981773row7_col5\" class=\"data row7 col5\" >0.00178513</td>\n",
       "                        <td id=\"T_d744bce6_a4d8_11ea_8cfc_b0bb45981773row7_col6\" class=\"data row7 col6\" >0.771228</td>\n",
       "                        <td id=\"T_d744bce6_a4d8_11ea_8cfc_b0bb45981773row7_col7\" class=\"data row7 col7\" >1</td>\n",
       "            </tr>\n",
       "    </tbody></table>"
      ],
      "text/plain": [
       "<pandas.io.formats.style.Styler at 0x18a03aa0ef0>"
      ]
     },
     "execution_count": 13,
     "metadata": {},
     "output_type": "execute_result"
    }
   ],
   "source": [
    "tabla_corr = pandaDf.corr()\n",
    "tabla_corr.style.background_gradient(cmap='coolwarm')"
   ]
  },
  {
   "cell_type": "code",
   "execution_count": 14,
   "metadata": {},
   "outputs": [
    {
     "data": {
      "text/plain": [
       "101"
      ]
     },
     "execution_count": 14,
     "metadata": {},
     "output_type": "execute_result"
    }
   ],
   "source": [
    "Num_Country1 = suicides.groupBy('country').count()\n",
    "Num_Country2 = suicides.select('country').distinct().count()\n",
    "Num_Country3 = Num_Country1.select('count').count()\n",
    "Num_Country2"
   ]
  },
  {
   "cell_type": "code",
   "execution_count": 15,
   "metadata": {},
   "outputs": [
    {
     "name": "stdout",
     "output_type": "stream",
     "text": [
      "+-------+----+----------+\n",
      "|country|year|suicide_no|\n",
      "+-------+----+----------+\n",
      "|  Spain|1985|       305|\n",
      "|  Spain|1985|       624|\n",
      "|  Spain|1985|       131|\n",
      "|  Spain|1985|       497|\n",
      "|  Spain|1985|       219|\n",
      "+-------+----+----------+\n",
      "only showing top 5 rows\n",
      "\n"
     ]
    }
   ],
   "source": [
    "SpainSuicides = suicides.select(\"country\",\"year\",\"suicide_no\").filter(\"country = 'Spain'\")\n",
    "SpainSuicides.show(5)"
   ]
  },
  {
   "cell_type": "code",
   "execution_count": 16,
   "metadata": {},
   "outputs": [
    {
     "data": {
      "text/plain": [
       "0.30660445126778024"
      ]
     },
     "execution_count": 16,
     "metadata": {},
     "output_type": "execute_result"
    }
   ],
   "source": [
    "corr = suicides.corr( 'suicide_no','Num_Suicides_100k' )\n",
    "corr"
   ]
  },
  {
   "cell_type": "code",
   "execution_count": 17,
   "metadata": {},
   "outputs": [
    {
     "name": "stdout",
     "output_type": "stream",
     "text": [
      "+------------------+----+---+---+-----------------+----------+----------+\n",
      "|           country|year|sex|age|Num_Suicides_100k|suicide_no|population|\n",
      "+------------------+----+---+---+-----------------+----------+----------+\n",
      "|Russian Federation|1994|  0|  3|            117.3|     22338|  19044200|\n",
      "+------------------+----+---+---+-----------------+----------+----------+\n",
      "\n"
     ]
    }
   ],
   "source": [
    "maxSuicide = max(suicides.select('suicide_no').collect())[0]\n",
    "PaisxSuicides = suicides.select('country' ,'year' ,'sex' , 'age' , 'Num_Suicides_100k', 'suicide_no','population')\\\n",
    "                        .filter(\"suicide_no = 22338\").show()"
   ]
  },
  {
   "cell_type": "code",
   "execution_count": 18,
   "metadata": {},
   "outputs": [
    {
     "data": {
      "text/plain": [
       "224.97"
      ]
     },
     "execution_count": 18,
     "metadata": {},
     "output_type": "execute_result"
    }
   ],
   "source": [
    "max(suicides.select('Num_Suicides_100k').collect())[0]"
   ]
  },
  {
   "cell_type": "code",
   "execution_count": 19,
   "metadata": {},
   "outputs": [
    {
     "data": {
      "text/plain": [
       "Row(suicide_no=22338)"
      ]
     },
     "execution_count": 19,
     "metadata": {},
     "output_type": "execute_result"
    }
   ],
   "source": [
    "max(suicides.select('suicide_no').collect())"
   ]
  },
  {
   "cell_type": "code",
   "execution_count": 20,
   "metadata": {},
   "outputs": [
    {
     "data": {
      "text/plain": [
       "32"
      ]
     },
     "execution_count": 20,
     "metadata": {},
     "output_type": "execute_result"
    }
   ],
   "source": [
    "suicides.select('year').distinct().count()"
   ]
  },
  {
   "cell_type": "markdown",
   "metadata": {},
   "source": [
    "______________________________________________________________________________________________________________________________"
   ]
  },
  {
   "cell_type": "markdown",
   "metadata": {},
   "source": [
    "### PROBLEMA"
   ]
  },
  {
   "cell_type": "code",
   "execution_count": 21,
   "metadata": {},
   "outputs": [
    {
     "data": {
      "image/png": "[encoded data removed]",
      "text/plain": [
       "<IPython.core.display.Image object>"
      ]
     },
     "execution_count": 21,
     "metadata": {},
     "output_type": "execute_result"
    }
   ],
   "source": [
    "from IPython.display import Image\n",
    "\n",
    "Image(\"imagen.png\")"
   ]
  },
  {
   "cell_type": "markdown",
   "metadata": {},
   "source": [
    "____________________________________________________________________________________________________________"
   ]
  },
  {
   "cell_type": "markdown",
   "metadata": {},
   "source": [
    "### CREAMOS LOS TRANSFORMERS"
   ]
  },
  {
   "cell_type": "code",
   "execution_count": 22,
   "metadata": {},
   "outputs": [],
   "source": [
    "#suicides = suicides.withColumn('suicides_num', suicides['suicide_no'].cast(typ.DoubleType()))\n",
    "#suicides = suicides.withColumn('population', suicides['population'].cast(typ.DoubleType()))\n",
    "#suicides = suicides.withColumn('PIB_PerCapita', suicides['PIB_PerCapita'].cast(typ.DoubleType()))\n",
    "#suicides = suicides.withColumn('sex', suicides['sex'].cast(typ.DoubleType()))\n",
    "suicides = suicides.withColumn('age', suicides['age'].cast(typ.DoubleType()))"
   ]
  },
  {
   "cell_type": "markdown",
   "metadata": {},
   "source": [
    "ENCODER"
   ]
  },
  {
   "cell_type": "code",
   "execution_count": 23,
   "metadata": {},
   "outputs": [],
   "source": [
    "import pyspark.ml.feature as ft\n",
    "\n",
    "encoder = ft.OneHotEncoder(inputCol='age',outputCol='age_vec')"
   ]
  },
  {
   "cell_type": "markdown",
   "metadata": {},
   "source": [
    "VECTOR ASSEMBLER"
   ]
  },
  {
   "cell_type": "code",
   "execution_count": 24,
   "metadata": {},
   "outputs": [],
   "source": [
    "import pyspark.ml.feature as ft\n",
    "\n",
    "labels = ['year','population','Num_Suicides_100k', 'PIB_PerCapita', 'suicide_no']\n",
    "featuresCreator = ft.VectorAssembler(inputCols = labels + [encoder.getOutputCol() ] ,outputCol = 'features')"
   ]
  },
  {
   "cell_type": "markdown",
   "metadata": {},
   "source": [
    "### CREAMOS EL LOGISTIC REGRESION"
   ]
  },
  {
   "cell_type": "code",
   "execution_count": 25,
   "metadata": {},
   "outputs": [],
   "source": [
    "import pyspark.ml.classification as cl\n",
    "\n",
    "logistic = cl.LogisticRegression(\n",
    "    maxIter=10, \n",
    "    regParam=0.01,\n",
    "    labelCol='sex'\n",
    "    )"
   ]
  },
  {
   "cell_type": "markdown",
   "metadata": {},
   "source": [
    "### CREAMOS EL PIPELINE Y ENTRENAMOS EL MODELO"
   ]
  },
  {
   "cell_type": "code",
   "execution_count": 26,
   "metadata": {},
   "outputs": [],
   "source": [
    "from pyspark.ml import Pipeline\n",
    "\n",
    "pipeline = Pipeline(stages=[encoder, featuresCreator, logistic])"
   ]
  },
  {
   "cell_type": "code",
   "execution_count": 27,
   "metadata": {},
   "outputs": [],
   "source": [
    "suicides_train, suicides_test = suicides.randomSplit([0.8, 0.2], seed=666)"
   ]
  },
  {
   "cell_type": "code",
   "execution_count": 28,
   "metadata": {},
   "outputs": [],
   "source": [
    "model = pipeline.fit(suicides_train)"
   ]
  },
  {
   "cell_type": "code",
   "execution_count": 29,
   "metadata": {},
   "outputs": [],
   "source": [
    "test_model = model.transform(suicides_test)"
   ]
  },
  {
   "cell_type": "code",
   "execution_count": 30,
   "metadata": {},
   "outputs": [
    {
     "data": {
      "text/plain": [
       "[Row(country='Albania', year=1987, sex=0, age=5.0, suicide_no=1, population=21800, Num_Suicides_100k=4.59, country-year='Albania1987', IDH_Y=None, PIB_Y='2,156,624,900', PIB_PerCapita=796, generation='G.I. Generation', age_vec=SparseVector(5, {}), features=SparseVector(10, {0: 1987.0, 1: 21800.0, 2: 4.59, 3: 796.0, 4: 1.0}), rawPrediction=DenseVector([-0.524, 0.524]), probability=DenseVector([0.3719, 0.6281]), prediction=1.0)]"
      ]
     },
     "execution_count": 30,
     "metadata": {},
     "output_type": "execute_result"
    }
   ],
   "source": [
    "test_model.take(1)"
   ]
  },
  {
   "cell_type": "markdown",
   "metadata": {},
   "source": [
    "EVALUACIÓN DEL MODELO LOGISTIC REGRESSION"
   ]
  },
  {
   "cell_type": "code",
   "execution_count": 31,
   "metadata": {},
   "outputs": [
    {
     "name": "stdout",
     "output_type": "stream",
     "text": [
      "0.7925511472916509\n",
      "0.7505485461873778\n"
     ]
    }
   ],
   "source": [
    "import pyspark.ml.evaluation as ev\n",
    "\n",
    "evaluator = ev.BinaryClassificationEvaluator(\n",
    "    rawPredictionCol='probability', \n",
    "    labelCol='sex')\n",
    "\n",
    "print(evaluator.evaluate(test_model, {evaluator.metricName: 'areaUnderROC'}))\n",
    "print(evaluator.evaluate(test_model, {evaluator.metricName: 'areaUnderPR'}))"
   ]
  },
  {
   "cell_type": "markdown",
   "metadata": {},
   "source": [
    "ACCURACY DEL MODELO LOGISTIC REGRESSION"
   ]
  },
  {
   "cell_type": "code",
   "execution_count": 32,
   "metadata": {},
   "outputs": [
    {
     "name": "stdout",
     "output_type": "stream",
     "text": [
      "Accuracy = 0.727549\n"
     ]
    }
   ],
   "source": [
    "from pyspark.ml.evaluation import MulticlassClassificationEvaluator\n",
    "evaluator = MulticlassClassificationEvaluator(labelCol='sex', predictionCol='prediction', metricName='accuracy')\n",
    "accuracy = evaluator.evaluate(test_model)\n",
    "print('Accuracy = %g'  % accuracy)"
   ]
  },
  {
   "cell_type": "markdown",
   "metadata": {},
   "source": [
    "### HACEMOS EL HYPER-TUNNING Y CREAMOS EL GRID DEL LOGISTIC REGRESSION"
   ]
  },
  {
   "cell_type": "code",
   "execution_count": 33,
   "metadata": {},
   "outputs": [],
   "source": [
    "import pyspark.ml.tuning as tune\n",
    "import pyspark.ml.evaluation as ev"
   ]
  },
  {
   "cell_type": "code",
   "execution_count": 34,
   "metadata": {},
   "outputs": [],
   "source": [
    "logistic = cl.LogisticRegression(labelCol='sex')\n",
    "\n",
    "grid = tune.ParamGridBuilder().addGrid(logistic.maxIter, [2, 10, 50]).addGrid(logistic.regParam, [0.01, 0.05, 0.3]).build()"
   ]
  },
  {
   "cell_type": "code",
   "execution_count": 35,
   "metadata": {},
   "outputs": [],
   "source": [
    "evaluator = ev.BinaryClassificationEvaluator(rawPredictionCol='probability', labelCol='sex')"
   ]
  },
  {
   "cell_type": "code",
   "execution_count": 36,
   "metadata": {},
   "outputs": [],
   "source": [
    "cv = tune.CrossValidator(estimator=logistic, estimatorParamMaps=grid, evaluator=evaluator)"
   ]
  },
  {
   "cell_type": "code",
   "execution_count": 37,
   "metadata": {},
   "outputs": [],
   "source": [
    "pipeline = Pipeline(stages=[encoder, featuresCreator])"
   ]
  },
  {
   "cell_type": "code",
   "execution_count": 38,
   "metadata": {},
   "outputs": [],
   "source": [
    "data_transformer = pipeline.fit(suicides_train)"
   ]
  },
  {
   "cell_type": "code",
   "execution_count": 39,
   "metadata": {},
   "outputs": [],
   "source": [
    "cvModel = cv.fit(data_transformer.transform(suicides_train))"
   ]
  },
  {
   "cell_type": "code",
   "execution_count": 40,
   "metadata": {},
   "outputs": [],
   "source": [
    "data_train = data_transformer.transform(suicides_test)"
   ]
  },
  {
   "cell_type": "markdown",
   "metadata": {},
   "source": [
    "EVALUACION DEL HYPERTUNNING DEL MODELO LOGISTIC REGRESSION"
   ]
  },
  {
   "cell_type": "code",
   "execution_count": 41,
   "metadata": {},
   "outputs": [
    {
     "name": "stdout",
     "output_type": "stream",
     "text": [
      "0.7937150404888903\n",
      "0.7444078048665009\n"
     ]
    }
   ],
   "source": [
    "results = cvModel.transform(data_train)\n",
    "\n",
    "print(evaluator.evaluate(results, {evaluator.metricName: 'areaUnderROC'}))\n",
    "print(evaluator.evaluate(results, {evaluator.metricName: 'areaUnderPR'}))"
   ]
  },
  {
   "cell_type": "markdown",
   "metadata": {},
   "source": [
    "ACCURACY DEL HYPERTUNNING DEL MODELO LOGISTIC REGRESSION"
   ]
  },
  {
   "cell_type": "code",
   "execution_count": 44,
   "metadata": {},
   "outputs": [
    {
     "name": "stdout",
     "output_type": "stream",
     "text": [
      "Accuracy = 0.7213\n"
     ]
    }
   ],
   "source": [
    "from pyspark.ml.evaluation import MulticlassClassificationEvaluator\n",
    "\n",
    "evaluator = MulticlassClassificationEvaluator(labelCol='sex', predictionCol='prediction', metricName='accuracy')\n",
    "accuracy = evaluator.evaluate(results)\n",
    "print('Accuracy = %g'  % accuracy)"
   ]
  },
  {
   "cell_type": "markdown",
   "metadata": {},
   "source": [
    "________________________________________________________________________________________________________________________"
   ]
  },
  {
   "cell_type": "markdown",
   "metadata": {},
   "source": [
    "### CREAMOS EL RANDOMFOREST"
   ]
  },
  {
   "cell_type": "code",
   "execution_count": 45,
   "metadata": {},
   "outputs": [],
   "source": [
    "from pyspark.ml.feature import StringIndexer\n",
    "\n",
    "indexer = StringIndexer(inputCol=\"sex\", outputCol=\"sex_indexer\").fit(suicides)"
   ]
  },
  {
   "cell_type": "markdown",
   "metadata": {},
   "source": [
    "### CREAMOS EL PIPELINE Y ENTRENAMOS EL MODELO"
   ]
  },
  {
   "cell_type": "code",
   "execution_count": 46,
   "metadata": {},
   "outputs": [],
   "source": [
    "suicides_train, suicides_test = suicides.randomSplit([0.8 , 0.2], seed=666)"
   ]
  },
  {
   "cell_type": "code",
   "execution_count": 47,
   "metadata": {},
   "outputs": [],
   "source": [
    "from pyspark.ml import Pipeline\n",
    "\n",
    "classifier = cl.RandomForestClassifier(\n",
    "    numTrees=5, \n",
    "    maxDepth=5, \n",
    "    labelCol='sex_indexer')"
   ]
  },
  {
   "cell_type": "code",
   "execution_count": 48,
   "metadata": {},
   "outputs": [],
   "source": [
    "pipeline = Pipeline(stages=[encoder, indexer, featuresCreator, classifier])"
   ]
  },
  {
   "cell_type": "code",
   "execution_count": 49,
   "metadata": {},
   "outputs": [],
   "source": [
    "model1 = pipeline.fit(suicides_train)"
   ]
  },
  {
   "cell_type": "code",
   "execution_count": 50,
   "metadata": {},
   "outputs": [],
   "source": [
    "test = model1.transform(suicides_test)"
   ]
  },
  {
   "cell_type": "code",
   "execution_count": 51,
   "metadata": {},
   "outputs": [
    {
     "data": {
      "text/plain": [
       "[Row(country='Albania', year=1987, sex=0, age=5.0, suicide_no=1, population=21800, Num_Suicides_100k=4.59, country-year='Albania1987', IDH_Y=None, PIB_Y='2,156,624,900', PIB_PerCapita=796, generation='G.I. Generation', age_vec=SparseVector(5, {}), sex_indexer=0.0, features=SparseVector(10, {0: 1987.0, 1: 21800.0, 2: 4.59, 3: 796.0, 4: 1.0}), rawPrediction=DenseVector([1.8153, 3.1847]), probability=DenseVector([0.3631, 0.6369]), prediction=1.0)]"
      ]
     },
     "execution_count": 51,
     "metadata": {},
     "output_type": "execute_result"
    }
   ],
   "source": [
    "test.take(1)"
   ]
  },
  {
   "cell_type": "markdown",
   "metadata": {},
   "source": [
    "EVALUACION DEL MODELO RANDOMFOREST"
   ]
  },
  {
   "cell_type": "code",
   "execution_count": 52,
   "metadata": {},
   "outputs": [
    {
     "name": "stdout",
     "output_type": "stream",
     "text": [
      "0.8147883545396178\n",
      "0.79508295004224\n"
     ]
    }
   ],
   "source": [
    "import pyspark.ml.evaluation as ev\n",
    "\n",
    "evaluator = ev.BinaryClassificationEvaluator(rawPredictionCol='probability', labelCol='sex_indexer')\n",
    "\n",
    "print(evaluator.evaluate(test,{evaluator.metricName: 'areaUnderROC'}))\n",
    "print(evaluator.evaluate(test,{evaluator.metricName: 'areaUnderPR'}))"
   ]
  },
  {
   "cell_type": "markdown",
   "metadata": {},
   "source": [
    "ACCURACY DEL MODELO RANDOMFOREST"
   ]
  },
  {
   "cell_type": "code",
   "execution_count": 53,
   "metadata": {},
   "outputs": [
    {
     "name": "stdout",
     "output_type": "stream",
     "text": [
      "Accuracy = 0.728798\n"
     ]
    }
   ],
   "source": [
    "from pyspark.ml.evaluation import MulticlassClassificationEvaluator\n",
    "\n",
    "evaluator = MulticlassClassificationEvaluator(labelCol='sex_indexer', predictionCol='prediction', metricName='accuracy')\n",
    "accuracy = evaluator.evaluate(test)\n",
    "print('Accuracy = %g'  % accuracy)"
   ]
  },
  {
   "cell_type": "markdown",
   "metadata": {},
   "source": [
    "### HACEMOS EL HYPER-TUNNING Y CREAMOS EL GRID DEL RANDOM FOREST"
   ]
  },
  {
   "cell_type": "code",
   "execution_count": 54,
   "metadata": {},
   "outputs": [],
   "source": [
    "import pyspark.ml.tuning as tune\n",
    "import pyspark.ml.evaluation as ev"
   ]
  },
  {
   "cell_type": "code",
   "execution_count": 55,
   "metadata": {},
   "outputs": [],
   "source": [
    "classifier = cl.RandomForestClassifier(numTrees=5, maxDepth=5, labelCol='sex_indexer')\n",
    "\n",
    "grid = tune.ParamGridBuilder().addGrid(classifier.numTrees, [2,4,6,8]).addGrid(classifier.maxDepth, [3,5,8,12]).build()"
   ]
  },
  {
   "cell_type": "code",
   "execution_count": 56,
   "metadata": {},
   "outputs": [],
   "source": [
    "evaluator = ev.BinaryClassificationEvaluator(rawPredictionCol='probability', labelCol='sex_indexer')"
   ]
  },
  {
   "cell_type": "code",
   "execution_count": 57,
   "metadata": {},
   "outputs": [],
   "source": [
    "cv = tune.CrossValidator(estimator=classifier, estimatorParamMaps=grid, evaluator=evaluator)"
   ]
  },
  {
   "cell_type": "code",
   "execution_count": 58,
   "metadata": {},
   "outputs": [],
   "source": [
    "pipeline = Pipeline(stages=[encoder, indexer, featuresCreator])"
   ]
  },
  {
   "cell_type": "code",
   "execution_count": 59,
   "metadata": {},
   "outputs": [],
   "source": [
    "data_transformer = pipeline.fit(suicides_train)"
   ]
  },
  {
   "cell_type": "code",
   "execution_count": 60,
   "metadata": {},
   "outputs": [],
   "source": [
    "cvModel1 = cv.fit(data_transformer.transform(suicides_train))"
   ]
  },
  {
   "cell_type": "markdown",
   "metadata": {},
   "source": [
    "EVALUACION DEL HYPERTUNNING DEL MODELO RANDOMFOREST"
   ]
  },
  {
   "cell_type": "code",
   "execution_count": 61,
   "metadata": {},
   "outputs": [
    {
     "name": "stdout",
     "output_type": "stream",
     "text": [
      "0.8776069652020436\n",
      "0.8756600460127482\n"
     ]
    }
   ],
   "source": [
    "data_train = data_transformer.transform(suicides_test)\n",
    "results = cvModel1.transform(data_train)\n",
    "\n",
    "print(evaluator.evaluate(results, {evaluator.metricName: 'areaUnderROC'}))\n",
    "print(evaluator.evaluate(results, {evaluator.metricName: 'areaUnderPR'}))"
   ]
  },
  {
   "cell_type": "markdown",
   "metadata": {},
   "source": [
    "ACCURACY DEL HYPERTUNNING DEL MODELO RANDOMFOREST"
   ]
  },
  {
   "cell_type": "code",
   "execution_count": 62,
   "metadata": {},
   "outputs": [
    {
     "name": "stdout",
     "output_type": "stream",
     "text": [
      "Accuracy = 0.774683\n"
     ]
    }
   ],
   "source": [
    "from pyspark.ml.evaluation import MulticlassClassificationEvaluator\n",
    "evaluator = MulticlassClassificationEvaluator(labelCol='sex_indexer', predictionCol='prediction', metricName='accuracy')\n",
    "accuracy = evaluator.evaluate(results)\n",
    "print('Accuracy = %g'  % accuracy)"
   ]
  },
  {
   "cell_type": "markdown",
   "metadata": {},
   "source": [
    "CUAL ES EL MEJOR ESTIMADOR OBTENIDO MEDIANTE HYPERTUNNING:"
   ]
  },
  {
   "cell_type": "code",
   "execution_count": 63,
   "metadata": {},
   "outputs": [
    {
     "data": {
      "text/plain": [
       "([{'maxIter': 50}, {'regParam': 0.01}], 0.7889401587200806)"
      ]
     },
     "execution_count": 63,
     "metadata": {},
     "output_type": "execute_result"
    }
   ],
   "source": [
    "results = [\n",
    "    (\n",
    "        [\n",
    "            {key.name: paramValue} \n",
    "            for key, paramValue \n",
    "            in zip(\n",
    "                params.keys(), \n",
    "                params.values())\n",
    "        ], metric\n",
    "    ) \n",
    "    for params, metric \n",
    "    in zip(\n",
    "        cvModel.getEstimatorParamMaps(), \n",
    "        cvModel.avgMetrics\n",
    "    )\n",
    "]\n",
    "\n",
    "sorted(results, key=lambda el: el[1], reverse=True)[0]"
   ]
  },
  {
   "cell_type": "markdown",
   "metadata": {},
   "source": [
    "_______________________________________________________________________________________________________________________________"
   ]
  },
  {
   "cell_type": "markdown",
   "metadata": {},
   "source": [
    "### MEJORAS DEL MODELO"
   ]
  },
  {
   "cell_type": "markdown",
   "metadata": {},
   "source": [
    "Vamos a implementar más transformes en nuestro modelo para que clasifique de una manera más óptima"
   ]
  },
  {
   "cell_type": "markdown",
   "metadata": {},
   "source": [
    "#### VECTORIZER"
   ]
  },
  {
   "cell_type": "code",
   "execution_count": 64,
   "metadata": {},
   "outputs": [],
   "source": [
    "vectorizer = ft.VectorAssembler(inputCols=['suicide_no' , 'PIB_PerCapita'], outputCol= 'continuous_vec')"
   ]
  },
  {
   "cell_type": "markdown",
   "metadata": {},
   "source": [
    "#### NORMALIZER"
   ]
  },
  {
   "cell_type": "code",
   "execution_count": 65,
   "metadata": {},
   "outputs": [],
   "source": [
    "normalizer = ft.StandardScaler(\n",
    "    inputCol=vectorizer.getOutputCol(), \n",
    "    outputCol='normalized', \n",
    "    withMean=True,\n",
    "    withStd=True\n",
    ")"
   ]
  },
  {
   "cell_type": "markdown",
   "metadata": {},
   "source": [
    "#### PCA"
   ]
  },
  {
   "cell_type": "code",
   "execution_count": 66,
   "metadata": {},
   "outputs": [],
   "source": [
    "from pyspark.ml.feature import PCA\n",
    "\n",
    "pca = PCA(k=6, inputCol = 'features' , outputCol = 'pcaFeature')"
   ]
  },
  {
   "cell_type": "markdown",
   "metadata": {},
   "source": [
    "#### NUEVO VECTOR ASSEMBLER"
   ]
  },
  {
   "cell_type": "code",
   "execution_count": 67,
   "metadata": {},
   "outputs": [],
   "source": [
    "import pyspark.ml.feature as ft\n",
    "\n",
    "labels = ['year','population','Num_Suicides_100k']\n",
    "featuresCreator = ft.VectorAssembler(inputCols = labels + [encoder.getOutputCol() ] ,outputCol = 'features')"
   ]
  },
  {
   "cell_type": "markdown",
   "metadata": {},
   "source": [
    "_____________________________________________________________________________________________________________________________"
   ]
  },
  {
   "cell_type": "markdown",
   "metadata": {},
   "source": [
    "### IMPLEMENTAMOS LAS MEJORAS EN EL MODELO LOGISTIC REGRESSION"
   ]
  },
  {
   "cell_type": "code",
   "execution_count": 68,
   "metadata": {},
   "outputs": [],
   "source": [
    "from pyspark.ml import Pipeline\n",
    "\n",
    "pipeline = Pipeline(stages=[encoder, vectorizer , normalizer, featuresCreator,pca, logistic])"
   ]
  },
  {
   "cell_type": "code",
   "execution_count": 69,
   "metadata": {},
   "outputs": [],
   "source": [
    "suicides_train, suicides_test = suicides.randomSplit([0.8, 0.2], seed=666) "
   ]
  },
  {
   "cell_type": "code",
   "execution_count": 70,
   "metadata": {},
   "outputs": [],
   "source": [
    "model = pipeline.fit(suicides_train)"
   ]
  },
  {
   "cell_type": "code",
   "execution_count": 71,
   "metadata": {},
   "outputs": [],
   "source": [
    "test_model = model.transform(suicides_test)"
   ]
  },
  {
   "cell_type": "code",
   "execution_count": 72,
   "metadata": {},
   "outputs": [
    {
     "data": {
      "text/plain": [
       "[Row(country='Albania', year=1987, sex=0, age=5.0, suicide_no=1, population=21800, Num_Suicides_100k=4.59, country-year='Albania1987', IDH_Y=None, PIB_Y='2,156,624,900', PIB_PerCapita=796, generation='G.I. Generation', age_vec=SparseVector(5, {}), continuous_vec=DenseVector([1.0, 796.0]), normalized=DenseVector([-0.2642, -0.8496]), features=SparseVector(8, {0: 1987.0, 1: 21800.0, 2: 4.59}), pcaFeature=DenseVector([-21800.0, -40.3562, 1986.5945, 0.4259, -0.024, 0.1916]), rawPrediction=DenseVector([-1.3528, 1.3528]), probability=DenseVector([0.2054, 0.7946]), prediction=1.0)]"
      ]
     },
     "execution_count": 72,
     "metadata": {},
     "output_type": "execute_result"
    }
   ],
   "source": [
    "test_model.take(1)"
   ]
  },
  {
   "cell_type": "markdown",
   "metadata": {},
   "source": [
    "EVALUACIÓN DEL MODELO LOGISTIC REGRESSION CON MEJORAS"
   ]
  },
  {
   "cell_type": "code",
   "execution_count": 73,
   "metadata": {},
   "outputs": [
    {
     "name": "stdout",
     "output_type": "stream",
     "text": [
      "0.7918149159900647\n",
      "0.7269264518065534\n"
     ]
    }
   ],
   "source": [
    "import pyspark.ml.evaluation as ev\n",
    "\n",
    "evaluator = ev.BinaryClassificationEvaluator(\n",
    "    rawPredictionCol='probability', \n",
    "    labelCol='sex')\n",
    "\n",
    "print(evaluator.evaluate(test_model, {evaluator.metricName: 'areaUnderROC'}))\n",
    "print(evaluator.evaluate(test_model, {evaluator.metricName: 'areaUnderPR'}))"
   ]
  },
  {
   "cell_type": "markdown",
   "metadata": {},
   "source": [
    "ACCURACY DEL MODELO LOGISTIC REGRESSION CON MEJORAS"
   ]
  },
  {
   "cell_type": "code",
   "execution_count": 74,
   "metadata": {},
   "outputs": [
    {
     "name": "stdout",
     "output_type": "stream",
     "text": [
      "Accuracy = 0.729691\n"
     ]
    }
   ],
   "source": [
    "from pyspark.ml.evaluation import MulticlassClassificationEvaluator\n",
    "evaluator = MulticlassClassificationEvaluator(labelCol='sex', predictionCol='prediction', metricName='accuracy')\n",
    "accuracy = evaluator.evaluate(test_model)\n",
    "print('Accuracy = %g'  % accuracy)"
   ]
  },
  {
   "cell_type": "markdown",
   "metadata": {},
   "source": [
    "### IMPLEMENTAMOS LAS MEJORAS EN EL HYPERTUNNING DEL LOGISTIC REGRESSION"
   ]
  },
  {
   "cell_type": "code",
   "execution_count": 75,
   "metadata": {},
   "outputs": [],
   "source": [
    "import pyspark.ml.tuning as tune\n",
    "import pyspark.ml.evaluation as ev"
   ]
  },
  {
   "cell_type": "code",
   "execution_count": 76,
   "metadata": {},
   "outputs": [],
   "source": [
    "logistic = cl.LogisticRegression(labelCol='sex')"
   ]
  },
  {
   "cell_type": "code",
   "execution_count": 77,
   "metadata": {},
   "outputs": [],
   "source": [
    "grid = tune.ParamGridBuilder().addGrid(logistic.maxIter, [2, 10, 50]).addGrid(logistic.regParam, [0.01, 0.05, 0.3]).build()"
   ]
  },
  {
   "cell_type": "code",
   "execution_count": 78,
   "metadata": {},
   "outputs": [],
   "source": [
    "evaluator = ev.BinaryClassificationEvaluator(rawPredictionCol='probability', labelCol='sex')"
   ]
  },
  {
   "cell_type": "code",
   "execution_count": 79,
   "metadata": {},
   "outputs": [],
   "source": [
    "cv = tune.CrossValidator(estimator=logistic, estimatorParamMaps=grid, evaluator=evaluator)"
   ]
  },
  {
   "cell_type": "code",
   "execution_count": 80,
   "metadata": {},
   "outputs": [],
   "source": [
    "pipeline = Pipeline(stages=[encoder, featuresCreator])"
   ]
  },
  {
   "cell_type": "code",
   "execution_count": 81,
   "metadata": {},
   "outputs": [],
   "source": [
    "data_transformer = pipeline.fit(suicides_train)"
   ]
  },
  {
   "cell_type": "code",
   "execution_count": 82,
   "metadata": {},
   "outputs": [],
   "source": [
    "cvModel = cv.fit(data_transformer.transform(suicides_train))"
   ]
  },
  {
   "cell_type": "code",
   "execution_count": 83,
   "metadata": {},
   "outputs": [],
   "source": [
    "data_train = data_transformer.transform(suicides_test)"
   ]
  },
  {
   "cell_type": "markdown",
   "metadata": {},
   "source": [
    "EVALUACIÓN DEL HYPERTUNNING DEL MODELO LOGISTIC REGRESSION CON MEJORAS"
   ]
  },
  {
   "cell_type": "code",
   "execution_count": 84,
   "metadata": {},
   "outputs": [
    {
     "name": "stdout",
     "output_type": "stream",
     "text": [
      "0.7918988162665559\n",
      "0.7263445020194723\n"
     ]
    }
   ],
   "source": [
    "results = cvModel.transform(data_train)\n",
    "\n",
    "print(evaluator.evaluate(results, {evaluator.metricName: 'areaUnderROC'}))\n",
    "print(evaluator.evaluate(results, {evaluator.metricName: 'areaUnderPR'}))"
   ]
  },
  {
   "cell_type": "markdown",
   "metadata": {},
   "source": [
    "ACCURACY DEL HYPERTUNNING DEL MODELO LOGISTIC REGRESSION CON MEJORAS"
   ]
  },
  {
   "cell_type": "code",
   "execution_count": 85,
   "metadata": {},
   "outputs": [
    {
     "name": "stdout",
     "output_type": "stream",
     "text": [
      "Accuracy = 0.729691\n"
     ]
    }
   ],
   "source": [
    "from pyspark.ml.evaluation import MulticlassClassificationEvaluator\n",
    "evaluator = MulticlassClassificationEvaluator(labelCol='sex', predictionCol='prediction', metricName='accuracy')\n",
    "accuracy = evaluator.evaluate(test_model)\n",
    "print('Accuracy = %g'  % accuracy)"
   ]
  },
  {
   "cell_type": "markdown",
   "metadata": {},
   "source": [
    "### IMPLEMENTAMOS LAS MEJORAS EN EL MODELO RANDOM FOREST"
   ]
  },
  {
   "cell_type": "code",
   "execution_count": 86,
   "metadata": {},
   "outputs": [],
   "source": [
    "from pyspark.ml import Pipeline\n",
    "\n",
    "pipeline = Pipeline(stages=[encoder, indexer, vectorizer, normalizer, featuresCreator, pca, logistic])"
   ]
  },
  {
   "cell_type": "code",
   "execution_count": 87,
   "metadata": {},
   "outputs": [],
   "source": [
    "suicides_train, suicides_test = suicides.randomSplit([0.8, 0.2], seed=666) "
   ]
  },
  {
   "cell_type": "code",
   "execution_count": 88,
   "metadata": {},
   "outputs": [],
   "source": [
    "model = pipeline.fit(suicides_train)"
   ]
  },
  {
   "cell_type": "code",
   "execution_count": 89,
   "metadata": {},
   "outputs": [],
   "source": [
    "test_model = model.transform(suicides_test)"
   ]
  },
  {
   "cell_type": "code",
   "execution_count": 90,
   "metadata": {},
   "outputs": [
    {
     "data": {
      "text/plain": [
       "[Row(country='Albania', year=1987, sex=0, age=5.0, suicide_no=1, population=21800, Num_Suicides_100k=4.59, country-year='Albania1987', IDH_Y=None, PIB_Y='2,156,624,900', PIB_PerCapita=796, generation='G.I. Generation', age_vec=SparseVector(5, {}), sex_indexer=0.0, continuous_vec=DenseVector([1.0, 796.0]), normalized=DenseVector([-0.2642, -0.8496]), features=SparseVector(8, {0: 1987.0, 1: 21800.0, 2: 4.59}), pcaFeature=DenseVector([-21800.0, -40.3562, 1986.5945, 0.4259, -0.024, 0.1916]), rawPrediction=DenseVector([-1.3528, 1.3528]), probability=DenseVector([0.2054, 0.7946]), prediction=1.0)]"
      ]
     },
     "execution_count": 90,
     "metadata": {},
     "output_type": "execute_result"
    }
   ],
   "source": [
    "test_model.take(1)"
   ]
  },
  {
   "cell_type": "markdown",
   "metadata": {},
   "source": [
    "EVALUACION DEL MODELO RANDOMFOREST CON MEJORAS"
   ]
  },
  {
   "cell_type": "code",
   "execution_count": 91,
   "metadata": {},
   "outputs": [
    {
     "name": "stdout",
     "output_type": "stream",
     "text": [
      "0.7918149159900647\n",
      "0.7269264518065534\n"
     ]
    }
   ],
   "source": [
    "import pyspark.ml.evaluation as ev\n",
    "\n",
    "evaluator = ev.BinaryClassificationEvaluator(\n",
    "    rawPredictionCol='probability', \n",
    "    labelCol='sex')\n",
    "\n",
    "print(evaluator.evaluate(test_model, {evaluator.metricName: 'areaUnderROC'}))\n",
    "print(evaluator.evaluate(test_model, {evaluator.metricName: 'areaUnderPR'}))"
   ]
  },
  {
   "cell_type": "markdown",
   "metadata": {},
   "source": [
    "ACCURACY DEL MODELO RANDOMFOREST CON MEJORAS"
   ]
  },
  {
   "cell_type": "code",
   "execution_count": 92,
   "metadata": {},
   "outputs": [
    {
     "name": "stdout",
     "output_type": "stream",
     "text": [
      "Accuracy = 0.729691\n"
     ]
    }
   ],
   "source": [
    "from pyspark.ml.evaluation import MulticlassClassificationEvaluator\n",
    "evaluator = MulticlassClassificationEvaluator(labelCol='sex', predictionCol='prediction', metricName='accuracy')\n",
    "accuracy = evaluator.evaluate(test_model)\n",
    "print('Accuracy = %g'  % accuracy)"
   ]
  },
  {
   "cell_type": "markdown",
   "metadata": {},
   "source": [
    "### IMPLEMENTAMOS LAS MEJORAS EN EL HYPERTUNNING DEL RANDOM FOREST"
   ]
  },
  {
   "cell_type": "code",
   "execution_count": 93,
   "metadata": {},
   "outputs": [],
   "source": [
    "import pyspark.ml.tuning as tune\n",
    "import pyspark.ml.evaluation as ev"
   ]
  },
  {
   "cell_type": "code",
   "execution_count": 94,
   "metadata": {},
   "outputs": [],
   "source": [
    "classifier = cl.RandomForestClassifier(numTrees=5, maxDepth=5, labelCol='sex_indexer')\n",
    "\n",
    "grid = tune.ParamGridBuilder().addGrid(classifier.numTrees, [2,4,6,8]).addGrid(classifier.maxDepth, [3,5,8,12]).build()"
   ]
  },
  {
   "cell_type": "code",
   "execution_count": 95,
   "metadata": {},
   "outputs": [],
   "source": [
    "evaluator = ev.BinaryClassificationEvaluator(rawPredictionCol='probability', labelCol='sex_indexer')"
   ]
  },
  {
   "cell_type": "code",
   "execution_count": 96,
   "metadata": {},
   "outputs": [],
   "source": [
    "cv = tune.CrossValidator(estimator=classifier, estimatorParamMaps=grid, evaluator=evaluator)"
   ]
  },
  {
   "cell_type": "code",
   "execution_count": 97,
   "metadata": {},
   "outputs": [],
   "source": [
    "pipeline = Pipeline(stages=[encoder, indexer ,vectorizer , normalizer, featuresCreator, pca])\n",
    "data_transformer = pipeline.fit(suicides_train)"
   ]
  },
  {
   "cell_type": "code",
   "execution_count": 98,
   "metadata": {},
   "outputs": [],
   "source": [
    "cvModel = cv.fit(data_transformer.transform(suicides_train))"
   ]
  },
  {
   "cell_type": "markdown",
   "metadata": {},
   "source": [
    "EVALUACION DEL HYPERTUNNING DEL MODELO RANDOMFOREST CON MEJORAS"
   ]
  },
  {
   "cell_type": "code",
   "execution_count": 99,
   "metadata": {},
   "outputs": [
    {
     "name": "stdout",
     "output_type": "stream",
     "text": [
      "0.8364883067496104\n",
      "0.822338855820921\n"
     ]
    }
   ],
   "source": [
    "data_train = data_transformer.transform(suicides_test)\n",
    "results = cvModel.transform(data_train)\n",
    "\n",
    "print(evaluator.evaluate(results, {evaluator.metricName: 'areaUnderROC'}))\n",
    "print(evaluator.evaluate(results, {evaluator.metricName: 'areaUnderPR'}))"
   ]
  },
  {
   "cell_type": "markdown",
   "metadata": {},
   "source": [
    "ACCURACY DEL HYPERTUNNING DEL MODELO RANDOMFOREST CON MEJORAS"
   ]
  },
  {
   "cell_type": "code",
   "execution_count": 100,
   "metadata": {},
   "outputs": [
    {
     "name": "stdout",
     "output_type": "stream",
     "text": [
      "Accuracy = 0.750937\n"
     ]
    }
   ],
   "source": [
    "from pyspark.ml.evaluation import MulticlassClassificationEvaluator\n",
    "evaluator = MulticlassClassificationEvaluator(labelCol='sex_indexer', predictionCol='prediction', metricName='accuracy')\n",
    "accuracy = evaluator.evaluate(results)\n",
    "print('Accuracy = %g'  % accuracy)"
   ]
  },
  {
   "cell_type": "code",
   "execution_count": 101,
   "metadata": {},
   "outputs": [
    {
     "data": {
      "text/plain": [
       "([{'numTrees': 8}, {'maxDepth': 12}], 0.8340217561417034)"
      ]
     },
     "execution_count": 101,
     "metadata": {},
     "output_type": "execute_result"
    }
   ],
   "source": [
    "results = [\n",
    "    (\n",
    "        [\n",
    "            {key.name: paramValue} \n",
    "            for key, paramValue \n",
    "            in zip(\n",
    "                params.keys(), \n",
    "                params.values())\n",
    "        ], metric\n",
    "    ) \n",
    "    for params, metric \n",
    "    in zip(\n",
    "        cvModel.getEstimatorParamMaps(), \n",
    "        cvModel.avgMetrics\n",
    "    )\n",
    "]\n",
    "\n",
    "sorted(results, key=lambda el: el[1], reverse=True)[0]"
   ]
  },
  {
   "cell_type": "markdown",
   "metadata": {},
   "source": [
    "___________________________________________________________________________________________________________________"
   ]
  },
  {
   "cell_type": "markdown",
   "metadata": {},
   "source": [
    "### CONCLUSIÓN"
   ]
  },
  {
   "cell_type": "markdown",
   "metadata": {},
   "source": [
    "______________________________________________________________________________________________________________________________"
   ]
  },
  {
   "cell_type": "markdown",
   "metadata": {},
   "source": [
    "### FIN"
   ]
  }
 ],
 "metadata": {
  "kernelspec": {
   "display_name": "Python 3",
   "language": "python",
   "name": "python3"
  },
  "language_info": {
   "codemirror_mode": {
    "name": "ipython",
    "version": 3
   },
   "file_extension": ".py",
   "mimetype": "text/x-python",
   "name": "python",
   "nbconvert_exporter": "python",
   "pygments_lexer": "ipython3",
   "version": "3.7.3"
  }
 },
 "nbformat": 4,
 "nbformat_minor": 2
}

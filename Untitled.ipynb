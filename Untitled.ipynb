{
 "cells": [
  {
   "cell_type": "code",
   "execution_count": 1,
   "metadata": {},
   "outputs": [
    {
     "data": {
      "text/plain": [
       "'C:\\\\Spark\\\\spark-2.3.3-bin-hadoop2.7'"
      ]
     },
     "execution_count": 1,
     "metadata": {},
     "output_type": "execute_result"
    }
   ],
   "source": [
    "import findspark\n",
    "findspark.init()\n",
    "findspark.find()\n",
    "import pyspark\n",
    "findspark.find()"
   ]
  },
  {
   "cell_type": "code",
   "execution_count": 2,
   "metadata": {},
   "outputs": [
    {
     "name": "stdout",
     "output_type": "stream",
     "text": [
      "<SparkContext master=local[3] appName=pyspark-shell>\n"
     ]
    }
   ],
   "source": [
    "#solo correrla una vez / es el contexto\n",
    "from pyspark import SparkContext, SparkConf\n",
    "sc=SparkContext(master=\"local[3]\")\n",
    "print (sc)"
   ]
  },
  {
   "cell_type": "code",
   "execution_count": 3,
   "metadata": {},
   "outputs": [],
   "source": [
    "#me creo la aplicación\n",
    "from pyspark.sql.session import SparkSession\n",
    "spark = SparkSession.builder.appName(\"nombre_de_la_aplicacion\").getOrCreate()"
   ]
  },
  {
   "cell_type": "markdown",
   "metadata": {},
   "source": [
    "____________________________________________________________________________________________________"
   ]
  },
  {
   "cell_type": "code",
   "execution_count": 4,
   "metadata": {},
   "outputs": [],
   "source": [
    "ca =spark.read.csv('comprar_alquilar.csv',header='true', inferSchema='true',  sep=',')"
   ]
  },
  {
   "cell_type": "code",
   "execution_count": 5,
   "metadata": {},
   "outputs": [
    {
     "name": "stdout",
     "output_type": "stream",
     "text": [
      "root\n",
      " |-- ingresos: integer (nullable = true)\n",
      " |-- gastos_comunes: integer (nullable = true)\n",
      " |-- pago_coche: integer (nullable = true)\n",
      " |-- gastos_otros: integer (nullable = true)\n",
      " |-- ahorros: integer (nullable = true)\n",
      " |-- vivienda: integer (nullable = true)\n",
      " |-- estado_civil: integer (nullable = true)\n",
      " |-- hijos: integer (nullable = true)\n",
      " |-- trabajo: integer (nullable = true)\n",
      " |-- comprar: integer (nullable = true)\n",
      "\n"
     ]
    }
   ],
   "source": [
    "ca.printSchema()"
   ]
  },
  {
   "cell_type": "code",
   "execution_count": 6,
   "metadata": {},
   "outputs": [
    {
     "name": "stdout",
     "output_type": "stream",
     "text": [
      "+--------+--------------+----------+------------+-------+--------+------------+-----+-------+-------+\n",
      "|ingresos|gastos_comunes|pago_coche|gastos_otros|ahorros|vivienda|estado_civil|hijos|trabajo|comprar|\n",
      "+--------+--------------+----------+------------+-------+--------+------------+-----+-------+-------+\n",
      "|    6000|          1000|         0|         600|  50000|  400000|           0|    2|      2|      1|\n",
      "|    6745|           944|       123|         429|  43240|  636897|           1|    3|      6|      0|\n",
      "|    6455|          1033|        98|         795|  57463|  321779|           2|    1|      8|      1|\n",
      "|    7098|          1278|        15|         254|  54506|  660933|           0|    0|      3|      0|\n",
      "|    6167|           863|       223|         520|  41512|  348932|           0|    0|      3|      1|\n",
      "|    5692|           911|        11|         325|  50875|  360863|           1|    4|      5|      1|\n",
      "|    6830|          1298|       345|         309|  46761|  429812|           1|    1|      5|      1|\n",
      "|    6470|          1035|        39|         782|  57439|  606291|           0|    0|      1|      0|\n",
      "|    6251|          1250|       209|         571|  50503|  291010|           0|    0|      3|      1|\n",
      "|    6987|          1258|       252|         245|  40611|  324098|           2|    1|      7|      1|\n",
      "|    7273|          1455|       303|         201|  39340|  577972|           0|    0|      0|      0|\n",
      "|    5058|          1012|        74|         463|  51836|  427334|           2|    0|      2|      0|\n",
      "|    5663|           793|       121|         225|  67971|  524971|           2|    3|      6|      1|\n",
      "|    6139|           921|       210|         387|  65438|  333239|           1|    3|      8|      1|\n",
      "|    7567|          1059|       341|         339|  42462|  641963|           2|    2|      5|      0|\n",
      "|    5749|           690|       291|         698|  50257|  305122|           2|    0|      4|      1|\n",
      "|    5685|           910|       182|         271|  66947|  365809|           1|    2|      8|      1|\n",
      "|    6722|           807|        52|         779|  66020|  593711|           2|    2|      7|      0|\n",
      "|    7705|          1387|       348|         366|  65410|  597411|           0|    0|      2|      0|\n",
      "|    6038|           966|        53|         270|  69636|  286581|           1|    1|      7|      1|\n",
      "+--------+--------------+----------+------------+-------+--------+------------+-----+-------+-------+\n",
      "only showing top 20 rows\n",
      "\n"
     ]
    }
   ],
   "source": [
    "ca.select('ingresos','gastos_comunes','pago_coche','gastos_otros','ahorros','vivienda','estado_civil','hijos',\n",
    "          'trabajo','comprar').show()"
   ]
  },
  {
   "cell_type": "code",
   "execution_count": 7,
   "metadata": {},
   "outputs": [],
   "source": [
    "import pyspark.ml.feature as ft\n",
    "\n",
    "labels = [\"ingresos\", \"vivienda\", \"ahorros\"]\n",
    "featuresCreator = ft.VectorAssembler(inputCols = labels ,outputCol = 'features')"
   ]
  },
  {
   "cell_type": "code",
   "execution_count": 8,
   "metadata": {},
   "outputs": [
    {
     "name": "stdout",
     "output_type": "stream",
     "text": [
      "Training Dataset Count: 142\n",
      "Test Dataset Count: 60\n"
     ]
    }
   ],
   "source": [
    "# set seed for reproducibility\n",
    "(trainingData, testData) = ca.randomSplit([0.7, 0.3], seed = 100)\n",
    "print(\"Training Dataset Count: \" + str(trainingData.count()))\n",
    "print(\"Test Dataset Count: \" + str(testData.count()))"
   ]
  },
  {
   "cell_type": "code",
   "execution_count": 9,
   "metadata": {},
   "outputs": [],
   "source": [
    "from pyspark.ml.classification import NaiveBayes\n",
    "\n",
    "nb = NaiveBayes(featuresCol = 'features', labelCol = 'comprar')"
   ]
  },
  {
   "cell_type": "code",
   "execution_count": 10,
   "metadata": {},
   "outputs": [],
   "source": [
    "from pyspark.ml import Pipeline\n",
    "\n",
    "pipeline = Pipeline(stages=[featuresCreator, nb])"
   ]
  },
  {
   "cell_type": "code",
   "execution_count": 11,
   "metadata": {},
   "outputs": [],
   "source": [
    "model = pipeline.fit(trainingData)"
   ]
  },
  {
   "cell_type": "code",
   "execution_count": 12,
   "metadata": {},
   "outputs": [],
   "source": [
    "predictions = model.transform(testData)"
   ]
  },
  {
   "cell_type": "code",
   "execution_count": 14,
   "metadata": {},
   "outputs": [
    {
     "name": "stdout",
     "output_type": "stream",
     "text": [
      "+--------+--------------+----------+------------+-------+--------+------------+-----+-------+-------+\n",
      "|ingresos|gastos_comunes|pago_coche|gastos_otros|ahorros|vivienda|estado_civil|hijos|trabajo|comprar|\n",
      "+--------+--------------+----------+------------+-------+--------+------------+-----+-------+-------+\n",
      "|    2028|           690|       167|         325|  37309|  284984|           2|    0|      3|      0|\n",
      "|    2039|           387|       258|         362|  25537|  210701|           0|    0|      4|      0|\n",
      "|    2064|           454|       199|         666|  38718|  356201|           0|    0|      2|      0|\n",
      "|    2077|           644|       182|         723|  12596|  310082|           0|    0|      3|      0|\n",
      "|    2369|           474|       131|         438|  19537|  203052|           0|    0|      1|      0|\n",
      "|    2485|           572|        90|         432|  18464|  304018|           1|    2|      7|      0|\n",
      "|    2516|           755|        64|         601|  16649|  262250|           0|    0|      1|      0|\n",
      "|    2593|           596|       248|         708|  16779|  275509|           2|    2|      8|      0|\n",
      "|    2928|           820|        25|         577|  28184|  290076|           1|    1|      8|      0|\n",
      "|    2937|           705|       437|         405|  13268|  177774|           2|    1|      7|      0|\n",
      "|    3080|           585|       285|         521|  16260|  377254|           0|    0|      4|      0|\n",
      "|    3084|           678|       432|         448|  17211|  378697|           1|    3|      5|      0|\n",
      "|    3105|           559|       318|         690|  31271|  317379|           1|    3|      8|      0|\n",
      "|    3234|           809|       368|         441|  22523|  213521|           2|    3|      8|      0|\n",
      "|    3334|           867|       369|         652|  19985|  376892|           1|    2|      5|      0|\n",
      "|    3390|           881|       194|         584|  34601|  304112|           2|    2|      5|      0|\n",
      "|    3473|           660|       107|         428|  25235|  182365|           0|    0|      4|      1|\n",
      "|    3586|           932|        81|         382|  35361|  242562|           0|    0|      3|      0|\n",
      "|    3731|          1045|       320|         304|  39448|  349870|           0|    0|      1|      0|\n",
      "|    3784|          1173|       448|         394|  17709|  176553|           2|    0|      0|      0|\n",
      "|    3831|           690|       352|         488|  10723|  363120|           0|    0|      2|      0|\n",
      "|    3961|           951|       423|         366|  10746|  265455|           1|    3|      5|      0|\n",
      "|    3988|          1157|       105|         382|  11980|  257580|           0|    0|      4|      0|\n",
      "|    4169|          1292|        48|         333|  28503|  239872|           2|    1|      7|      1|\n",
      "|    4224|           972|       428|         718|  18604|  316114|           1|    1|      6|      0|\n",
      "|    4503|          1441|       224|         685|  26001|  289485|           2|    4|      8|      0|\n",
      "|    4517|          1310|        89|         529|  25960|  227634|           2|    2|      6|      1|\n",
      "|    4606|          1336|        54|         532|  10319|  365449|           1|    3|      6|      0|\n",
      "|    4648|          1116|       419|         686|  24874|  191190|           1|    3|      8|      1|\n",
      "|    4653|          1024|       447|         703|  16952|  392957|           0|    0|      3|      0|\n",
      "|    4708|          1459|        84|         567|  32314|  379520|           0|    0|      0|      0|\n",
      "|    4909|          1424|       323|         610|  16475|  341337|           0|    0|      1|      0|\n",
      "|    4943|          1186|       402|         570|  27644|  390089|           0|    0|      2|      0|\n",
      "|    5126|           615|       258|         514|  41683|  313057|           0|    0|      4|      1|\n",
      "|    5415|          1083|        84|         754|  68327|  345689|           1|    2|      5|      1|\n",
      "|    5468|          1094|       337|         221|  61055|  303294|           0|    0|      4|      1|\n",
      "|    5514|           772|       147|         672|  67815|  397838|           0|    0|      0|      0|\n",
      "|    5515|           993|       156|         247|  50121|  286808|           1|    0|      4|      1|\n",
      "|    5536|           720|       174|         285|  49221|  357007|           1|    2|      5|      1|\n",
      "|    5558|           889|       168|         679|  61867|  449413|           1|    2|      5|      1|\n",
      "|    5572|          1114|        87|         727|  56337|  559220|           2|    3|      5|      0|\n",
      "|    5646|          1016|       215|         747|  69276|  655399|           0|    0|      1|      0|\n",
      "|    5791|           811|       208|         417|  40166|  643683|           1|    0|      4|      0|\n",
      "|    5813|           756|       108|         500|  58055|  328265|           2|    1|      5|      1|\n",
      "|    6038|           966|        53|         270|  69636|  286581|           1|    1|      7|      1|\n",
      "|    6251|          1250|       209|         571|  50503|  291010|           0|    0|      3|      1|\n",
      "|    6325|          1139|       102|         754|  68527|  588004|           0|    0|      0|      0|\n",
      "|    6355|           953|       135|         740|  38235|  343128|           0|    0|      1|      1|\n",
      "|    6503|          1301|       295|         716|  55798|  279795|           1|    4|      6|      1|\n",
      "|    6771|          1354|        38|         789|  64860|  271947|           1|    1|      5|      1|\n",
      "|    6822|          1296|        81|         786|  50433|  669054|           0|    0|      0|      0|\n",
      "|    6830|          1298|       345|         309|  46761|  429812|           1|    1|      5|      1|\n",
      "|    7033|          1196|       294|         216|  61329|  667865|           2|    0|      2|      0|\n",
      "|    7098|          1278|        15|         254|  54506|  660933|           0|    0|      3|      0|\n",
      "|    7276|          1455|       285|         384|  61125|  443008|           0|    0|      0|      0|\n",
      "|    7287|           874|       143|         525|  40079|  297363|           1|    4|      8|      1|\n",
      "|    7413|           890|       262|         709|  68843|  619056|           2|    3|      7|      1|\n",
      "|    7422|          1336|       230|         418|  48257|  338751|           2|    1|      8|      1|\n",
      "|    7705|          1387|       348|         366|  65410|  597411|           0|    0|      2|      0|\n",
      "|    7984|           958|       181|         828|  47359|  397624|           1|    3|      6|      1|\n",
      "+--------+--------------+----------+------------+-------+--------+------------+-----+-------+-------+\n",
      "\n"
     ]
    }
   ],
   "source": [
    "predictions.select('ingresos','gastos_comunes','pago_coche','gastos_otros','ahorros','vivienda','estado_civil','hijos','trabajo', 'comprar').show(100)"
   ]
  },
  {
   "cell_type": "code",
   "execution_count": 28,
   "metadata": {},
   "outputs": [
    {
     "data": {
      "text/plain": [
       "DataFrame[ingresos: bigint, ahorros: bigint, vivienda: bigint, hijos: bigint]"
      ]
     },
     "execution_count": 28,
     "metadata": {},
     "output_type": "execute_result"
    }
   ],
   "source": [
    "from pyspark.sql import SQLContext\n",
    "sqlContext = SQLContext(sc)\n",
    "\n",
    "comprar = sqlContext.createDataFrame([(2000,5000,200000,0),(6000,34000,320000,2)],[\"ingresos\",\"ahorros\",\"vivienda\",\"hijos\"])\n",
    "comprar"
   ]
  },
  {
   "cell_type": "code",
   "execution_count": 29,
   "metadata": {},
   "outputs": [],
   "source": [
    "predictions_final = model.transform(comprar)"
   ]
  },
  {
   "cell_type": "code",
   "execution_count": 30,
   "metadata": {},
   "outputs": [
    {
     "name": "stdout",
     "output_type": "stream",
     "text": [
      "+----------+\n",
      "|prediction|\n",
      "+----------+\n",
      "|       0.0|\n",
      "|       1.0|\n",
      "+----------+\n",
      "\n"
     ]
    }
   ],
   "source": [
    "predictions_final.select(\"prediction\").show()"
   ]
  }
 ],
 "metadata": {
  "kernelspec": {
   "display_name": "Python 3",
   "language": "python",
   "name": "python3"
  },
  "language_info": {
   "codemirror_mode": {
    "name": "ipython",
    "version": 3
   },
   "file_extension": ".py",
   "mimetype": "text/x-python",
   "name": "python",
   "nbconvert_exporter": "python",
   "pygments_lexer": "ipython3",
   "version": "3.7.3"
  }
 },
 "nbformat": 4,
 "nbformat_minor": 2
}

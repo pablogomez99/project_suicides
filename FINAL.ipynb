{
 "cells": [
  {
   "cell_type": "code",
   "execution_count": 93,
   "metadata": {},
   "outputs": [],
   "source": [
    "import pyspark\n",
    "from pyspark import SparkContext\n",
    "from pyspark.sql.session import SparkSession\n",
    "spark = SparkSession.builder.appName(\"spark_airport\").getOrCreate()"
   ]
  },
  {
   "cell_type": "code",
   "execution_count": 94,
   "metadata": {},
   "outputs": [],
   "source": [
    "from pyspark.ml import Pipeline\n",
    "from pyspark.mllib.linalg import Vectors\n",
    "from pyspark.ml.feature import VectorAssembler\n",
    "from pyspark.ml.evaluation import RegressionEvaluator\n",
    "from pyspark.ml.regression import RandomForestRegressionModel, RandomForestRegressor\n",
    "from pyspark.ml.regression import LinearRegression\n",
    "from pyspark.ml.regression import GBTRegressionModel, GBTRegressor\n",
    "import pyspark.ml.classification as cl\n",
    "import pyspark.ml.feature as ft\n",
    "import pyspark.sql.types as typ\n",
    "from pyspark.ml.evaluation import MulticlassClassificationEvaluator\n"
   ]
  },
  {
   "cell_type": "code",
   "execution_count": 95,
   "metadata": {},
   "outputs": [],
   "source": [
    "midata = spark.read.csv('./datasets/comprar_alquilar.csv', header = 'true', inferSchema = 'true', sep = ','  ) "
   ]
  },
  {
   "cell_type": "code",
   "execution_count": 96,
   "metadata": {},
   "outputs": [
    {
     "name": "stdout",
     "output_type": "stream",
     "text": [
      "root\n",
      " |-- ingresos: integer (nullable = true)\n",
      " |-- gastos_comunes: integer (nullable = true)\n",
      " |-- pago_coche: integer (nullable = true)\n",
      " |-- gastos_otros: integer (nullable = true)\n",
      " |-- ahorros: integer (nullable = true)\n",
      " |-- vivienda: integer (nullable = true)\n",
      " |-- estado_civil: integer (nullable = true)\n",
      " |-- hijos: integer (nullable = true)\n",
      " |-- trabajo: integer (nullable = true)\n",
      " |-- comprar: integer (nullable = true)\n",
      "\n"
     ]
    }
   ],
   "source": [
    "midata.printSchema()"
   ]
  },
  {
   "cell_type": "code",
   "execution_count": 97,
   "metadata": {},
   "outputs": [],
   "source": [
    "featuresCreator =VectorAssembler( inputCols=[\"ingresos\", \"vivienda\", \"ahorros\"],outputCol='features')"
   ]
  },
  {
   "cell_type": "code",
   "execution_count": 98,
   "metadata": {},
   "outputs": [],
   "source": [
    "#ingresos\",\"gastos_comunes\",\"pago_coche\",\"gastos_otros\",\"ahorros\",\"vivienda\",\"estado_civil\", \"hijos\",\"trabajo\""
   ]
  },
  {
   "cell_type": "code",
   "execution_count": 99,
   "metadata": {},
   "outputs": [],
   "source": [
    "train_data,test_data=midata.randomSplit([0.80,0.20])"
   ]
  },
  {
   "cell_type": "code",
   "execution_count": 100,
   "metadata": {},
   "outputs": [],
   "source": [
    "NB= cl.NaiveBayes(featuresCol='features',labelCol='comprar')"
   ]
  },
  {
   "cell_type": "code",
   "execution_count": 101,
   "metadata": {},
   "outputs": [],
   "source": [
    "pipeline = Pipeline(stages=[featuresCreator, NB])"
   ]
  },
  {
   "cell_type": "code",
   "execution_count": 102,
   "metadata": {},
   "outputs": [],
   "source": [
    "model = pipeline.fit(train_data)"
   ]
  },
  {
   "cell_type": "code",
   "execution_count": 103,
   "metadata": {},
   "outputs": [],
   "source": [
    "predictions = model.transform(train_data)"
   ]
  },
  {
   "cell_type": "code",
   "execution_count": 104,
   "metadata": {},
   "outputs": [
    {
     "name": "stdout",
     "output_type": "stream",
     "text": [
      "+----------+-------+--------------------+\n",
      "|prediction|comprar|            features|\n",
      "+----------+-------+--------------------+\n",
      "|       1.0|      0|[2008.0,180374.0,...|\n",
      "|       0.0|      0|[2022.0,291439.0,...|\n",
      "|       1.0|      0|[2028.0,284984.0,...|\n",
      "|       1.0|      0|[2036.0,224583.0,...|\n",
      "|       1.0|      0|[2039.0,210701.0,...|\n",
      "|       0.0|      0|[2077.0,310082.0,...|\n",
      "|       0.0|      0|[2138.0,398611.0,...|\n",
      "|       0.0|      0|[2151.0,339143.0,...|\n",
      "|       0.0|      0|[2265.0,248465.0,...|\n",
      "|       1.0|      0|[2274.0,196232.0,...|\n",
      "|       1.0|      0|[2308.0,257224.0,...|\n",
      "|       0.0|      0|[2369.0,203052.0,...|\n",
      "|       0.0|      0|[2409.0,298841.0,...|\n",
      "|       0.0|      0|[2448.0,362523.0,...|\n",
      "|       0.0|      0|[2485.0,304018.0,...|\n",
      "|       0.0|      0|[2516.0,262250.0,...|\n",
      "|       0.0|      0|[2550.0,201278.0,...|\n",
      "|       0.0|      0|[2593.0,275509.0,...|\n",
      "|       0.0|      0|[2614.0,294601.0,...|\n",
      "|       0.0|      0|[2825.0,257331.0,...|\n",
      "+----------+-------+--------------------+\n",
      "only showing top 20 rows\n",
      "\n"
     ]
    }
   ],
   "source": [
    "predictions.select(\"prediction\", \"comprar\", \"features\").show()"
   ]
  },
  {
   "cell_type": "code",
   "execution_count": 105,
   "metadata": {},
   "outputs": [
    {
     "name": "stdout",
     "output_type": "stream",
     "text": [
      "Accuracy = 0.79375\n",
      "f1 = 0.7976\n",
      "weightedPrecision = 0.811905\n",
      "weightedRecall = 0.79375\n"
     ]
    }
   ],
   "source": [
    "evaluator = MulticlassClassificationEvaluator(labelCol= \"comprar\",metricName=\"accuracy\")\n",
    "accuracy = evaluator.evaluate(predictions)\n",
    "print(\"Accuracy = %g\" % accuracy)\n",
    " \n",
    "evaluatorf1 = MulticlassClassificationEvaluator(labelCol=\"comprar\",metricName=\"f1\")\n",
    "f1 = evaluatorf1.evaluate(predictions)\n",
    "print(\"f1 = %g\" % f1)\n",
    " \n",
    "evaluatorwp = MulticlassClassificationEvaluator(labelCol=\"comprar\",metricName=\"weightedPrecision\")\n",
    "wp = evaluatorwp.evaluate(predictions)\n",
    "print(\"weightedPrecision = %g\" % wp)\n",
    " \n",
    "evaluatorwr = MulticlassClassificationEvaluator(labelCol=\"comprar\", metricName=\"weightedRecall\")\n",
    "wr = evaluatorwr.evaluate(predictions)\n",
    "print(\"weightedRecall = %g\" % wr) "
   ]
  },
  {
   "cell_type": "code",
   "execution_count": 106,
   "metadata": {},
   "outputs": [],
   "source": [
    "vaina = sqlContext.createDataFrame([\n",
    "    (2000,5000,200000),\n",
    "    (6000,34000,320000)], [\"ingresos\",\"ahorros\",\"vivienda\"])\n"
   ]
  },
  {
   "cell_type": "code",
   "execution_count": 107,
   "metadata": {},
   "outputs": [
    {
     "data": {
      "text/plain": [
       "DataFrame[ingresos: bigint, ahorros: bigint, vivienda: bigint]"
      ]
     },
     "execution_count": 107,
     "metadata": {},
     "output_type": "execute_result"
    }
   ],
   "source": [
    "vaina"
   ]
  },
  {
   "cell_type": "code",
   "execution_count": 108,
   "metadata": {},
   "outputs": [],
   "source": [
    "predictions_final = model.transform(vaina)"
   ]
  },
  {
   "cell_type": "code",
   "execution_count": 109,
   "metadata": {},
   "outputs": [
    {
     "name": "stdout",
     "output_type": "stream",
     "text": [
      "+----------+\n",
      "|prediction|\n",
      "+----------+\n",
      "|       0.0|\n",
      "|       1.0|\n",
      "+----------+\n",
      "\n"
     ]
    }
   ],
   "source": [
    "predictions_final.select(\"prediction\").show()"
   ]
  },
  {
   "cell_type": "code",
   "execution_count": null,
   "metadata": {},
   "outputs": [],
   "source": []
  },
  {
   "cell_type": "code",
   "execution_count": null,
   "metadata": {},
   "outputs": [],
   "source": []
  }
 ],
 "metadata": {
  "kernelspec": {
   "display_name": "Python 3",
   "language": "python",
   "name": "python3"
  },
  "language_info": {
   "codemirror_mode": {
    "name": "ipython",
    "version": 3
   },
   "file_extension": ".py",
   "mimetype": "text/x-python",
   "name": "python",
   "nbconvert_exporter": "python",
   "pygments_lexer": "ipython3",
   "version": "3.7.3"
  }
 },
 "nbformat": 4,
 "nbformat_minor": 2
}
